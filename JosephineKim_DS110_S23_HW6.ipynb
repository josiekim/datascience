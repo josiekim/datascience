{
  "cells": [
    {
      "cell_type": "markdown",
      "metadata": {
        "id": "HdjVihUK9jyv"
      },
      "source": [
        "# HW6:  60 points possible"
      ]
    },
    {
      "cell_type": "markdown",
      "metadata": {
        "id": "zEzeFPRdbYlr"
      },
      "source": [
        "This assignment needs the file books2.csv, which should be at the same location where you got this file."
      ]
    },
    {
      "cell_type": "markdown",
      "metadata": {
        "id": "DEj1rxno9bo9"
      },
      "source": [
        "# Problem 1:  The Book Class (54 points:  3,5,5,5,6,8,10,7,5)"
      ]
    },
    {
      "cell_type": "markdown",
      "metadata": {
        "id": "qkT7p1RS9tel"
      },
      "source": [
        "a) Create a Book class with the following methods:\n",
        "\n",
        "* (3 pts) A constructor that takes the author (string), title (string), and a list of ratings (integers)\n",
        "* (5 pts) A `__str__()` method that returns the string \"[title] by [author]\" when invoked\n",
        "* (5 pts) An `average_rating()` method that takes no argument and returns the average of all the ratings in the list\n",
        "* (5 pts) A `rate()` method that takes one integer argument and adds that integer to the end of the ratings, returning the new list of ratings"
      ]
    },
    {
      "cell_type": "code",
      "execution_count": 84,
      "metadata": {
        "id": "1updg7II9LhF"
      },
      "outputs": [],
      "source": [
        "# TODO Book class with __init__(), __str__(), average_rating(), rate()\n",
        "class Book:\n",
        "  def __init__(self,author,title,ratings):\n",
        "    self.title = title\n",
        "    self.author = author\n",
        "    self.ratings = ratings\n",
        "\n",
        "  def __str__(self):\n",
        "    return str(self.title) + ' by ' + str(self.author)\n",
        "  \n",
        "  def average_rating(self):\n",
        "    return (sum(self.ratings))/(len(self.ratings))\n",
        "  \n",
        "  def rate(self,integer):\n",
        "    self.ratings.append(integer)\n",
        "    return self.ratings\n"
      ]
    },
    {
      "cell_type": "code",
      "execution_count": 85,
      "metadata": {
        "id": "Io3RbBcSAsUF",
        "colab": {
          "base_uri": "https://localhost:8080/"
        },
        "outputId": "e3b0f7ca-4b6f-4558-f4e8-22d7098e9fa8"
      },
      "outputs": [
        {
          "output_type": "stream",
          "name": "stdout",
          "text": [
            "Frankenstein by Mary Shelley\n",
            "4.0\n",
            "[5, 4, 3, 5, 3, 5]\n"
          ]
        }
      ],
      "source": [
        "# Tests\n",
        "my_book = Book('Mary Shelley', 'Frankenstein', [5, 4, 3, 5, 3])\n",
        "print(my_book) # expect 'Frankenstein by Mary Shelley'\n",
        "print(my_book.average_rating()) # expect 4.0\n",
        "print(my_book.rate(5)) # expect [5, 4, 3, 5, 3, 5]"
      ]
    },
    {
      "cell_type": "markdown",
      "metadata": {
        "id": "P6ATI6qpE_KO"
      },
      "source": [
        "b, 6 pts) Sometimes data for an entity can be spread across multiple records in the dataset.  Code the function merge() which takes two Book objects as arguments, and returns a single Book record where the author and title match the first argument, and the ratings are a concatenation of the two ratings lists."
      ]
    },
    {
      "cell_type": "code",
      "execution_count": 86,
      "metadata": {
        "id": "1iauKPJFBTFl"
      },
      "outputs": [],
      "source": [
        "# TODO merge()\n",
        "def merge(book1,book2):\n",
        "  books = book1.ratings+book2.ratings\n",
        "  return Book(book1.author,book1.title,books)"
      ]
    },
    {
      "cell_type": "code",
      "execution_count": 87,
      "metadata": {
        "id": "vL_nP3OiFq3Q",
        "colab": {
          "base_uri": "https://localhost:8080/"
        },
        "outputId": "476a46ad-00e4-45e7-cf6e-d2ed2783e267"
      },
      "outputs": [
        {
          "output_type": "stream",
          "name": "stdout",
          "text": [
            "Pride and Prejudice by Jane Austen\n",
            "[5, 4, 5, 3, 5, 5]\n"
          ]
        }
      ],
      "source": [
        "book1 = Book('Jane Austen', 'Pride and Prejudice', [5,4,5,3])\n",
        "book2 = Book('J. Austen', 'Pride and Prejudice', [5, 5])\n",
        "book3 = merge(book1,book2)\n",
        "print(book3)\n",
        "print(book3.ratings)"
      ]
    },
    {
      "cell_type": "markdown",
      "metadata": {
        "id": "ZI-Muy47NzCU"
      },
      "source": [
        "c, 8 pts) Code a class that inherits from Book, Nonfiction.  Give it a constructor identical to Book's, except it has one additional argument:  the edition number (an int).  Then add to the Nonfiction class a method more_recent_than() which takes a Book as an argument and returns true if 1) the authors and titles match, *and* 2) the Book calling it has a higher edition number than the argument."
      ]
    },
    {
      "cell_type": "code",
      "execution_count": 88,
      "metadata": {
        "id": "pbqYgcIMPEBf"
      },
      "outputs": [],
      "source": [
        "# TODO Nonfiction class with __init__(), more_recent_than()\n",
        "class Nonfiction(Book):\n",
        "  def __init__(self,title,author,ratings,edition):\n",
        "    Book.__init__(self,title,author,ratings)\n",
        "    self.edition = edition\n",
        "    \n",
        "  def more_recent_than(self,book):\n",
        "    if self.author == book.author and self.title == book.title and book.edition < self.edition:\n",
        "      return True\n",
        "    else:\n",
        "      return False"
      ]
    },
    {
      "cell_type": "code",
      "execution_count": 89,
      "metadata": {
        "id": "XZy0pIHxQbug",
        "colab": {
          "base_uri": "https://localhost:8080/"
        },
        "outputId": "2de2c838-3163-4f82-d7b5-dbaac8f7eba3"
      },
      "outputs": [
        {
          "output_type": "stream",
          "name": "stdout",
          "text": [
            "True\n",
            "False\n",
            "5.0\n"
          ]
        }
      ],
      "source": [
        "book1 = Nonfiction('Feynman', 'Physics', [5,4,5], 1)\n",
        "book2 = Nonfiction('Feynman', 'Physics', [5,5,5], 2)\n",
        "book3 = Nonfiction('Herschbach', 'Chemistry', [5,5,5], 1)\n",
        "\n",
        "print(book2.more_recent_than(book1)) # expect True\n",
        "print(book2.more_recent_than(book3)) # expect False, author/title mismatch\n",
        "print(book3.average_rating()) # Should have inherited this method from Book"
      ]
    },
    {
      "cell_type": "markdown",
      "metadata": {
        "id": "jP_O96rDQR39"
      },
      "source": [
        "d, 10pts) Code a class Fiction that inherits from Book and has an extra attribute *sequel*, which should be a Fiction (or None if there is no sequel).  Accept an extra argument in the constructor to set this attribute.  Throw a ValueError if the sequel argument isn't a Fiction object or None.\n",
        "\n",
        "Then write a method rest_of_series() that returns a list of the remaining titles in the series (as strings).  For example, if the Book The Fellowship of the Ring had the sequel The Two Towers, and that had a sequel of The Return of the King, then calling this method of The Fellowship of the Ring would return the list of strings ['The Two Towers', 'The Return of the King'].  (Your method should work with arbitrarily long chains of sequels, not just trilogies.)"
      ]
    },
    {
      "cell_type": "code",
      "source": [
        "# TODO Fiction class with __init__(), rest_of_series()\n",
        "class Fiction(Book):\n",
        "  def __init__(self,author,title,rating,sequel):\n",
        "    super().__init__(author,title,rating)\n",
        "    self.sequel = sequel\n",
        "    try:\n",
        "      sequel.edition\n",
        "      raise ValueError('The sequel argument is not a Fiction object or None')\n",
        "    except AttributeError:\n",
        "      return None\n",
        "  def rest_of_series(self):\n",
        "    sequellist = []\n",
        "    if self.sequel != None:\n",
        "      sequellist.append(self.sequel.title)\n",
        "      sequellist.extend(self.sequel.rest_of_series())\n",
        "    return sequellist"
      ],
      "metadata": {
        "id": "4y9iyyqunMMB"
      },
      "execution_count": 90,
      "outputs": []
    },
    {
      "cell_type": "code",
      "execution_count": 91,
      "metadata": {
        "id": "aqihtjdXsRSk",
        "colab": {
          "base_uri": "https://localhost:8080/",
          "height": 329
        },
        "outputId": "01820ed0-4d58-4a29-ee14-23c7b5044c65"
      },
      "outputs": [
        {
          "output_type": "error",
          "ename": "ValueError",
          "evalue": "ignored",
          "traceback": [
            "\u001b[0;31m---------------------------------------------------------------------------\u001b[0m",
            "\u001b[0;31mValueError\u001b[0m                                Traceback (most recent call last)",
            "\u001b[0;32m<ipython-input-91-aaf7c6746795>\u001b[0m in \u001b[0;36m<module>\u001b[0;34m\u001b[0m\n\u001b[1;32m      1\u001b[0m \u001b[0;31m# Test, should throw an error because sequel isn't Fiction\u001b[0m\u001b[0;34m\u001b[0m\u001b[0;34m\u001b[0m\u001b[0m\n\u001b[1;32m      2\u001b[0m \u001b[0mbook1\u001b[0m \u001b[0;34m=\u001b[0m \u001b[0mNonfiction\u001b[0m\u001b[0;34m(\u001b[0m\u001b[0;34m'Feynman'\u001b[0m\u001b[0;34m,\u001b[0m \u001b[0;34m'Physics'\u001b[0m\u001b[0;34m,\u001b[0m \u001b[0;34m[\u001b[0m\u001b[0;36m5\u001b[0m\u001b[0;34m,\u001b[0m\u001b[0;36m4\u001b[0m\u001b[0;34m,\u001b[0m\u001b[0;36m5\u001b[0m\u001b[0;34m]\u001b[0m\u001b[0;34m,\u001b[0m \u001b[0;36m1\u001b[0m\u001b[0;34m)\u001b[0m\u001b[0;34m\u001b[0m\u001b[0;34m\u001b[0m\u001b[0m\n\u001b[0;32m----> 3\u001b[0;31m \u001b[0mbook2\u001b[0m \u001b[0;34m=\u001b[0m \u001b[0mFiction\u001b[0m\u001b[0;34m(\u001b[0m\u001b[0;34m'Mary Shelley'\u001b[0m\u001b[0;34m,\u001b[0m \u001b[0;34m'Frankenstein'\u001b[0m\u001b[0;34m,\u001b[0m \u001b[0;34m[\u001b[0m\u001b[0;36m5\u001b[0m\u001b[0;34m,\u001b[0m\u001b[0;36m5\u001b[0m\u001b[0;34m,\u001b[0m\u001b[0;36m5\u001b[0m\u001b[0;34m]\u001b[0m\u001b[0;34m,\u001b[0m \u001b[0mbook1\u001b[0m\u001b[0;34m)\u001b[0m\u001b[0;34m\u001b[0m\u001b[0;34m\u001b[0m\u001b[0m\n\u001b[0m",
            "\u001b[0;32m<ipython-input-90-25eb1ceb76a4>\u001b[0m in \u001b[0;36m__init__\u001b[0;34m(self, author, title, rating, sequel)\u001b[0m\n\u001b[1;32m      6\u001b[0m     \u001b[0;32mtry\u001b[0m\u001b[0;34m:\u001b[0m\u001b[0;34m\u001b[0m\u001b[0;34m\u001b[0m\u001b[0m\n\u001b[1;32m      7\u001b[0m       \u001b[0msequel\u001b[0m\u001b[0;34m.\u001b[0m\u001b[0medition\u001b[0m\u001b[0;34m\u001b[0m\u001b[0;34m\u001b[0m\u001b[0m\n\u001b[0;32m----> 8\u001b[0;31m       \u001b[0;32mraise\u001b[0m \u001b[0mValueError\u001b[0m\u001b[0;34m(\u001b[0m\u001b[0;34m'The sequel argument is not a Fiction object or None'\u001b[0m\u001b[0;34m)\u001b[0m\u001b[0;34m\u001b[0m\u001b[0;34m\u001b[0m\u001b[0m\n\u001b[0m\u001b[1;32m      9\u001b[0m     \u001b[0;32mexcept\u001b[0m \u001b[0mAttributeError\u001b[0m\u001b[0;34m:\u001b[0m\u001b[0;34m\u001b[0m\u001b[0;34m\u001b[0m\u001b[0m\n\u001b[1;32m     10\u001b[0m       \u001b[0;32mreturn\u001b[0m \u001b[0;32mNone\u001b[0m\u001b[0;34m\u001b[0m\u001b[0;34m\u001b[0m\u001b[0m\n",
            "\u001b[0;31mValueError\u001b[0m: The sequel argument is not a Fiction object or None"
          ]
        }
      ],
      "source": [
        "# Test, should throw an error because sequel isn't Fiction\n",
        "book1 = Nonfiction('Feynman', 'Physics', [5,4,5], 1)\n",
        "book2 = Fiction('Mary Shelley', 'Frankenstein', [5,5,5], book1)"
      ]
    },
    {
      "cell_type": "code",
      "execution_count": 92,
      "metadata": {
        "id": "0hAMucibalvs",
        "colab": {
          "base_uri": "https://localhost:8080/"
        },
        "outputId": "ecdd7e1c-1078-4745-e107-8f6235354f76"
      },
      "outputs": [
        {
          "output_type": "stream",
          "name": "stdout",
          "text": [
            "['The Fellowship of the Ring', 'The Two Towers', 'The Return of the King']\n",
            "[]\n"
          ]
        }
      ],
      "source": [
        "# Test rest_of_series()\n",
        "king = Fiction('J.R.R. Tolkien', 'The Return of the King', [], None)\n",
        "towers = Fiction('J.R.R. Tolkien', 'The Two Towers', [], king)\n",
        "fellowship = Fiction('J.R.R. Tolkien', 'The Fellowship of the Ring', [], towers)\n",
        "hobbit = Fiction('J.R.R. Tolkien', 'The Hobbit', [], fellowship)\n",
        "\n",
        "print(hobbit.rest_of_series()) # Should be ['The Fellowship of the Ring', 'The Two Towers', 'The Return of the King']\n",
        "print(king.rest_of_series()) # Expect empty list []"
      ]
    },
    {
      "cell_type": "markdown",
      "metadata": {
        "id": "qm9H_FxWPYhT"
      },
      "source": [
        "e, 7 pts)  Create a new BookDict class.  The argument for the constructor should be the string name of a csv file.  The csv columns in order from left to right are title, author, and a comma-separated string of ratings.  The constructor should create a dictionary from title (string) to the Book object with that title.  Call that dictionary my_dict and make it a field (attribute) of the BookDict object.  (You can assume titles are unique for this exercise.  Note that you will need to use the function float() to convert string ratings to floating point numbers.)\n",
        "\n",
        "f, 5 pts) The one other method for the BookDict, lookup(), should take a title (string) as an argument, and print the information stored in the Book for that title.  The printed information should follow the format '[title] by [author] (average_rating)' -- for example, 'Pride and Prejudice by Jane Austen (4.2)'.  Print no more than two digits after the decimal place.  lookup() should also return the Book, besides printing its information.  If the title isn't in the dictionary, print 'Not Found' and return None.  Use methods you have already created when you can.  You can again assume titles are unique."
      ]
    },
    {
      "cell_type": "code",
      "source": [
        "import csv\n",
        "import numpy as np\n",
        "\n",
        "class BookDict:\n",
        "  def __init__(self,filename):\n",
        "    self.my_dict = {}\n",
        "    with open(filename,'r') as myfile:\n",
        "      reader = csv.reader(myfile)\n",
        "      for element in reader:\n",
        "        title = element[0]\n",
        "        author = element[1]\n",
        "        rating = list(map(float,element[2].split(',')))\n",
        "        book = Book(author,title,rating)\n",
        "        self.my_dict[title] = book\n",
        "\n",
        "  def lookup(self,title):\n",
        "    if title in self.my_dict:\n",
        "      book = self.my_dict[title]\n",
        "      avg_rating = book.average_rating()\n",
        "      print(f'{title} by {book.author} ({avg_rating:.2f})')\n",
        "      return book\n",
        "    else:\n",
        "      print('Not Found')\n",
        "      return None"
      ],
      "metadata": {
        "id": "qg4Zvl_A-s80"
      },
      "execution_count": 98,
      "outputs": []
    },
    {
      "cell_type": "code",
      "execution_count": 99,
      "metadata": {
        "id": "EnqIm7luXO6-",
        "colab": {
          "base_uri": "https://localhost:8080/"
        },
        "outputId": "cfe9b660-cc28-40b9-a954-f80c73978f52"
      },
      "outputs": [
        {
          "output_type": "stream",
          "name": "stdout",
          "text": [
            "Pride and Prejudice by Jane Austen (4.20)\n",
            "Not Found\n"
          ]
        }
      ],
      "source": [
        "# Test:  should print 'Pride and Prejudice by Jane Austen (4.2)'\n",
        "my_bookdict = BookDict('books2.csv')\n",
        "my_book = my_bookdict.lookup('Pride and Prejudice')\n",
        "# Test:  should print 'Not Found'\n",
        "book2 = my_bookdict.lookup('Erehwon')"
      ]
    },
    {
      "cell_type": "code",
      "execution_count": 100,
      "metadata": {
        "id": "LLci7VTbXBsD",
        "colab": {
          "base_uri": "https://localhost:8080/",
          "height": 145
        },
        "outputId": "03660baf-ea98-4f79-d6e3-852eef5d66b8"
      },
      "outputs": [
        {
          "output_type": "display_data",
          "data": {
            "text/plain": [
              "<IPython.core.display.HTML object>"
            ],
            "text/html": [
              "\n",
              "     <input type=\"file\" id=\"files-ff172b8a-1e19-4e41-a0f3-ea955dee5914\" name=\"files[]\" multiple disabled\n",
              "        style=\"border:none\" />\n",
              "     <output id=\"result-ff172b8a-1e19-4e41-a0f3-ea955dee5914\">\n",
              "      Upload widget is only available when the cell has been executed in the\n",
              "      current browser session. Please rerun this cell to enable.\n",
              "      </output>\n",
              "      <script>// Copyright 2017 Google LLC\n",
              "//\n",
              "// Licensed under the Apache License, Version 2.0 (the \"License\");\n",
              "// you may not use this file except in compliance with the License.\n",
              "// You may obtain a copy of the License at\n",
              "//\n",
              "//      http://www.apache.org/licenses/LICENSE-2.0\n",
              "//\n",
              "// Unless required by applicable law or agreed to in writing, software\n",
              "// distributed under the License is distributed on an \"AS IS\" BASIS,\n",
              "// WITHOUT WARRANTIES OR CONDITIONS OF ANY KIND, either express or implied.\n",
              "// See the License for the specific language governing permissions and\n",
              "// limitations under the License.\n",
              "\n",
              "/**\n",
              " * @fileoverview Helpers for google.colab Python module.\n",
              " */\n",
              "(function(scope) {\n",
              "function span(text, styleAttributes = {}) {\n",
              "  const element = document.createElement('span');\n",
              "  element.textContent = text;\n",
              "  for (const key of Object.keys(styleAttributes)) {\n",
              "    element.style[key] = styleAttributes[key];\n",
              "  }\n",
              "  return element;\n",
              "}\n",
              "\n",
              "// Max number of bytes which will be uploaded at a time.\n",
              "const MAX_PAYLOAD_SIZE = 100 * 1024;\n",
              "\n",
              "function _uploadFiles(inputId, outputId) {\n",
              "  const steps = uploadFilesStep(inputId, outputId);\n",
              "  const outputElement = document.getElementById(outputId);\n",
              "  // Cache steps on the outputElement to make it available for the next call\n",
              "  // to uploadFilesContinue from Python.\n",
              "  outputElement.steps = steps;\n",
              "\n",
              "  return _uploadFilesContinue(outputId);\n",
              "}\n",
              "\n",
              "// This is roughly an async generator (not supported in the browser yet),\n",
              "// where there are multiple asynchronous steps and the Python side is going\n",
              "// to poll for completion of each step.\n",
              "// This uses a Promise to block the python side on completion of each step,\n",
              "// then passes the result of the previous step as the input to the next step.\n",
              "function _uploadFilesContinue(outputId) {\n",
              "  const outputElement = document.getElementById(outputId);\n",
              "  const steps = outputElement.steps;\n",
              "\n",
              "  const next = steps.next(outputElement.lastPromiseValue);\n",
              "  return Promise.resolve(next.value.promise).then((value) => {\n",
              "    // Cache the last promise value to make it available to the next\n",
              "    // step of the generator.\n",
              "    outputElement.lastPromiseValue = value;\n",
              "    return next.value.response;\n",
              "  });\n",
              "}\n",
              "\n",
              "/**\n",
              " * Generator function which is called between each async step of the upload\n",
              " * process.\n",
              " * @param {string} inputId Element ID of the input file picker element.\n",
              " * @param {string} outputId Element ID of the output display.\n",
              " * @return {!Iterable<!Object>} Iterable of next steps.\n",
              " */\n",
              "function* uploadFilesStep(inputId, outputId) {\n",
              "  const inputElement = document.getElementById(inputId);\n",
              "  inputElement.disabled = false;\n",
              "\n",
              "  const outputElement = document.getElementById(outputId);\n",
              "  outputElement.innerHTML = '';\n",
              "\n",
              "  const pickedPromise = new Promise((resolve) => {\n",
              "    inputElement.addEventListener('change', (e) => {\n",
              "      resolve(e.target.files);\n",
              "    });\n",
              "  });\n",
              "\n",
              "  const cancel = document.createElement('button');\n",
              "  inputElement.parentElement.appendChild(cancel);\n",
              "  cancel.textContent = 'Cancel upload';\n",
              "  const cancelPromise = new Promise((resolve) => {\n",
              "    cancel.onclick = () => {\n",
              "      resolve(null);\n",
              "    };\n",
              "  });\n",
              "\n",
              "  // Wait for the user to pick the files.\n",
              "  const files = yield {\n",
              "    promise: Promise.race([pickedPromise, cancelPromise]),\n",
              "    response: {\n",
              "      action: 'starting',\n",
              "    }\n",
              "  };\n",
              "\n",
              "  cancel.remove();\n",
              "\n",
              "  // Disable the input element since further picks are not allowed.\n",
              "  inputElement.disabled = true;\n",
              "\n",
              "  if (!files) {\n",
              "    return {\n",
              "      response: {\n",
              "        action: 'complete',\n",
              "      }\n",
              "    };\n",
              "  }\n",
              "\n",
              "  for (const file of files) {\n",
              "    const li = document.createElement('li');\n",
              "    li.append(span(file.name, {fontWeight: 'bold'}));\n",
              "    li.append(span(\n",
              "        `(${file.type || 'n/a'}) - ${file.size} bytes, ` +\n",
              "        `last modified: ${\n",
              "            file.lastModifiedDate ? file.lastModifiedDate.toLocaleDateString() :\n",
              "                                    'n/a'} - `));\n",
              "    const percent = span('0% done');\n",
              "    li.appendChild(percent);\n",
              "\n",
              "    outputElement.appendChild(li);\n",
              "\n",
              "    const fileDataPromise = new Promise((resolve) => {\n",
              "      const reader = new FileReader();\n",
              "      reader.onload = (e) => {\n",
              "        resolve(e.target.result);\n",
              "      };\n",
              "      reader.readAsArrayBuffer(file);\n",
              "    });\n",
              "    // Wait for the data to be ready.\n",
              "    let fileData = yield {\n",
              "      promise: fileDataPromise,\n",
              "      response: {\n",
              "        action: 'continue',\n",
              "      }\n",
              "    };\n",
              "\n",
              "    // Use a chunked sending to avoid message size limits. See b/62115660.\n",
              "    let position = 0;\n",
              "    do {\n",
              "      const length = Math.min(fileData.byteLength - position, MAX_PAYLOAD_SIZE);\n",
              "      const chunk = new Uint8Array(fileData, position, length);\n",
              "      position += length;\n",
              "\n",
              "      const base64 = btoa(String.fromCharCode.apply(null, chunk));\n",
              "      yield {\n",
              "        response: {\n",
              "          action: 'append',\n",
              "          file: file.name,\n",
              "          data: base64,\n",
              "        },\n",
              "      };\n",
              "\n",
              "      let percentDone = fileData.byteLength === 0 ?\n",
              "          100 :\n",
              "          Math.round((position / fileData.byteLength) * 100);\n",
              "      percent.textContent = `${percentDone}% done`;\n",
              "\n",
              "    } while (position < fileData.byteLength);\n",
              "  }\n",
              "\n",
              "  // All done.\n",
              "  yield {\n",
              "    response: {\n",
              "      action: 'complete',\n",
              "    }\n",
              "  };\n",
              "}\n",
              "\n",
              "scope.google = scope.google || {};\n",
              "scope.google.colab = scope.google.colab || {};\n",
              "scope.google.colab._files = {\n",
              "  _uploadFiles,\n",
              "  _uploadFilesContinue,\n",
              "};\n",
              "})(self);\n",
              "</script> "
            ]
          },
          "metadata": {}
        },
        {
          "output_type": "stream",
          "name": "stdout",
          "text": [
            "Saving books2.csv to books2 (2).csv\n"
          ]
        },
        {
          "output_type": "execute_result",
          "data": {
            "text/plain": [
              "{'books2.csv': b'Pride and Prejudice,Jane Austen,\"4,4,4,4,5\"\\r\\nSense and Sensibility,Jane Austen,\"3,4,3,4,5,4,4\"\\r\\n1Q84,Haruki Murakami,\"4,2,5,3,4,3,3,5\"\\r\\n\"Little, Big\",John Crowley,\"4,3,5,4,3,4,5,5\"\\r\\nPossession,A.S. Byatt,\"3,5,4,5,4,5,5\"\\r\\nDragons of Autumn Twilight,Margaret Weis and Tracy Hickman,\"2,5,1,4,3,3,4,4,2\"\\r\\nUnder the Whispering Door,T.J. Klune,\"4,5,5,4,3,3,4\"\\r\\nThe Hitchhiker\\xe2\\x80\\x99s Guide To the Galaxy,Douglas Adams,\"5,3,5,4,5,5,2,5\"\\r\\n'}"
            ]
          },
          "metadata": {},
          "execution_count": 100
        }
      ],
      "source": [
        "from google.colab import files\n",
        "files.upload() # Upload books2.csv"
      ]
    },
    {
      "cell_type": "markdown",
      "metadata": {
        "id": "RsZZVNFe7F7N"
      },
      "source": [
        "# Problem 2:  Recursion (6 points)\n",
        "\n",
        "Write a *recursive* function that calculates $f(n)$ where $f(n) = f(n-1) + f(n-3) + 1$ and $f(1) = 1, f(2) = 2, f(3) = 3$.  You can assume $n$ is a positive integer."
      ]
    },
    {
      "cell_type": "code",
      "execution_count": 102,
      "metadata": {
        "id": "5PEkfXth7F7N"
      },
      "outputs": [],
      "source": [
        "# TODO f(n)\n",
        "def f(n):\n",
        "  if n == 1:\n",
        "    return 1\n",
        "  if n == 2:\n",
        "    return 2\n",
        "  if n == 3:\n",
        "    return 3\n",
        "  return f(n-1)+f(n-3)+1\n"
      ]
    },
    {
      "cell_type": "code",
      "execution_count": 103,
      "metadata": {
        "id": "XoO0Dd6x7F7O",
        "colab": {
          "base_uri": "https://localhost:8080/"
        },
        "outputId": "c7cdd878-57a8-48fb-99b0-11db0c434c4c"
      },
      "outputs": [
        {
          "output_type": "stream",
          "name": "stdout",
          "text": [
            "5\n",
            "8\n",
            "12\n"
          ]
        }
      ],
      "source": [
        "# Tests\n",
        "print(f(4)) # Should print 5\n",
        "print(f(5)) # Should print 8\n",
        "print(f(6)) # Should print 12"
      ]
    },
    {
      "cell_type": "code",
      "source": [],
      "metadata": {
        "id": "PXOOmzRYtOCf"
      },
      "execution_count": null,
      "outputs": []
    }
  ],
  "metadata": {
    "colab": {
      "provenance": []
    },
    "kernelspec": {
      "display_name": "Python 3",
      "language": "python",
      "name": "python3"
    },
    "language_info": {
      "codemirror_mode": {
        "name": "ipython",
        "version": 3
      },
      "file_extension": ".py",
      "mimetype": "text/x-python",
      "name": "python",
      "nbconvert_exporter": "python",
      "pygments_lexer": "ipython3",
      "version": "3.8.8"
    }
  },
  "nbformat": 4,
  "nbformat_minor": 0
}