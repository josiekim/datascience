{
 "cells": [
  {
   "cell_type": "code",
   "execution_count": 1,
   "id": "1095c528",
   "metadata": {
    "deletable": false,
    "editable": false
   },
   "outputs": [],
   "source": [
    "# Initialize Otter\n",
    "import otter\n",
    "grader = otter.Notebook(\"hw05.ipynb\")"
   ]
  },
  {
   "cell_type": "markdown",
   "id": "c33c6c87",
   "metadata": {},
   "source": [
    "# Homework 5: Applying Functions and Iteration\n",
    "\n",
    "Please complete this notebook by filling in the cells provided. Before you begin, execute the previous cell to load the provided tests."
   ]
  },
  {
   "cell_type": "markdown",
   "id": "deb6f575",
   "metadata": {},
   "source": [
    "**Recommended Readings**: \n",
    "\n",
    "* [Tabular Thinking Guide](https://drive.google.com/file/d/13HaWu4rrjeowEOs6S_vaQGM3GremzXQ3/view?usp=sharing)\n",
    "* [Applying Functions](https://www.inferentialthinking.com/chapters/08/1/Applying_a_Function_to_a_Column.html)\n",
    "* [Conditionals](https://www.inferentialthinking.com/chapters/09/1/Conditional_Statements.html)\n",
    "* [Iteration](https://www.inferentialthinking.com/chapters/09/2/Iteration.html)"
   ]
  },
  {
   "cell_type": "markdown",
   "id": "939b9776",
   "metadata": {},
   "source": [
    "Please complete this notebook by filling in the cells provided. Before you begin, execute the following cell to setup the notebook by importing some helpful libraries. Each time you start your server, you will need to execute this cell again.\n",
    "\n",
    "For all problems that you must write explanations and sentences for, you **must** provide your answer in the designated space. **Moreover, throughout this homework and all future ones, please be sure to not re-assign variables throughout the notebook!** For example, if you use `max_temperature` in your answer to one question, do not reassign it later on. Otherwise, you will fail tests that you thought you were passing previously!\n",
    "\n",
    "\n",
    "**Note: This homework has hidden tests on it. That means even though the tests may say 100% passed, it doesn't mean your final grade will be 100%. We will be running more tests for correctness once everyone turns in the homework.**\n",
    "\n",
    "\n",
    "Directly sharing answers is not okay, but discussing problems with the course staff or with other students is encouraged. \n",
    "\n",
    "You should start early so that you have time to get help if you're stuck."
   ]
  },
  {
   "cell_type": "markdown",
   "id": "f9f97f40",
   "metadata": {},
   "source": [
    "## 1. 2021 Cal Football Season"
   ]
  },
  {
   "cell_type": "code",
   "execution_count": 2,
   "id": "a8b2f2bd",
   "metadata": {
    "execution": {
     "iopub.execute_input": "2022-02-16T22:50:19.972612Z",
     "iopub.status.busy": "2022-02-16T22:50:19.971675Z",
     "iopub.status.idle": "2022-02-16T22:50:21.473863Z",
     "shell.execute_reply": "2022-02-16T22:50:21.474499Z"
    }
   },
   "outputs": [],
   "source": [
    "# Run this cell to set up the notebook, but please don't change it.\n",
    "\n",
    "# These lines import the numpy and datascience modules.\n",
    "import numpy as np\n",
    "from datascience import *\n",
    "import d8error\n",
    "import warnings\n",
    "warnings.simplefilter('ignore', FutureWarning)"
   ]
  },
  {
   "cell_type": "markdown",
   "id": "ace8510f",
   "metadata": {},
   "source": [
    "James is trying to analyze how well the Cal football team performed in the 2021 season. A football game is divided into four periods, called quarters. The number of points Cal scored in each quarter and the number of points their opponent scored in each quarter are stored in a table called `cal_fb.csv`."
   ]
  },
  {
   "cell_type": "code",
   "execution_count": 3,
   "id": "f0bbf7f4",
   "metadata": {
    "deletable": false,
    "editable": false,
    "execution": {
     "iopub.execute_input": "2022-02-16T22:50:21.480807Z",
     "iopub.status.busy": "2022-02-16T22:50:21.480011Z",
     "iopub.status.idle": "2022-02-16T22:50:21.493856Z",
     "shell.execute_reply": "2022-02-16T22:50:21.493248Z"
    }
   },
   "outputs": [
    {
     "data": {
      "text/html": [
       "<table border=\"1\" class=\"dataframe\">\n",
       "    <thead>\n",
       "        <tr>\n",
       "            <th>Opponent</th> <th>Cal 1Q</th> <th>Cal 2Q</th> <th>Cal 3Q</th> <th>Cal 4Q</th> <th>Opp 1Q</th> <th>Opp 2Q</th> <th>Opp 3Q</th> <th>Opp 4Q</th>\n",
       "        </tr>\n",
       "    </thead>\n",
       "    <tbody>\n",
       "        <tr>\n",
       "            <td>Nevada          </td> <td>14    </td> <td>0     </td> <td>0     </td> <td>3     </td> <td>0     </td> <td>13    </td> <td>9     </td> <td>0     </td>\n",
       "        </tr>\n",
       "        <tr>\n",
       "            <td>TCU             </td> <td>6     </td> <td>13    </td> <td>0     </td> <td>13    </td> <td>0     </td> <td>14    </td> <td>7     </td> <td>13    </td>\n",
       "        </tr>\n",
       "        <tr>\n",
       "            <td>Sacramento State</td> <td>14    </td> <td>7     </td> <td>14    </td> <td>7     </td> <td>6     </td> <td>0     </td> <td>14    </td> <td>10    </td>\n",
       "        </tr>\n",
       "        <tr>\n",
       "            <td>Washington      </td> <td>7     </td> <td>3     </td> <td>7     </td> <td>7     </td> <td>7     </td> <td>14    </td> <td>3     </td> <td>7     </td>\n",
       "        </tr>\n",
       "        <tr>\n",
       "            <td>Washington State</td> <td>6     </td> <td>0     </td> <td>0     </td> <td>0     </td> <td>14    </td> <td>0     </td> <td>7     </td> <td>0     </td>\n",
       "        </tr>\n",
       "        <tr>\n",
       "            <td>Oregon          </td> <td>7     </td> <td>0     </td> <td>3     </td> <td>7     </td> <td>3     </td> <td>7     </td> <td>0     </td> <td>14    </td>\n",
       "        </tr>\n",
       "        <tr>\n",
       "            <td>Colorado        </td> <td>10    </td> <td>13    </td> <td>0     </td> <td>3     </td> <td>0     </td> <td>3     </td> <td>0     </td> <td>0     </td>\n",
       "        </tr>\n",
       "        <tr>\n",
       "            <td>Oregon State    </td> <td>10    </td> <td>7     </td> <td>14    </td> <td>8     </td> <td>0     </td> <td>10    </td> <td>7     </td> <td>8     </td>\n",
       "        </tr>\n",
       "        <tr>\n",
       "            <td>Arizona         </td> <td>0     </td> <td>0     </td> <td>3     </td> <td>0     </td> <td>0     </td> <td>0     </td> <td>3     </td> <td>7     </td>\n",
       "        </tr>\n",
       "        <tr>\n",
       "            <td>Stanford        </td> <td>0     </td> <td>14    </td> <td>13    </td> <td>14    </td> <td>0     </td> <td>3     </td> <td>0     </td> <td>8     </td>\n",
       "        </tr>\n",
       "        <tr>\n",
       "            <td>UCLA            </td> <td>0     </td> <td>14    </td> <td>0     </td> <td>0     </td> <td>3     </td> <td>14    </td> <td>10    </td> <td>15    </td>\n",
       "        </tr>\n",
       "        <tr>\n",
       "            <td>USC             </td> <td>3     </td> <td>14    </td> <td>0     </td> <td>7     </td> <td>0     </td> <td>7     </td> <td>0     </td> <td>7     </td>\n",
       "        </tr>\n",
       "    </tbody>\n",
       "</table>"
      ],
      "text/plain": [
       "<IPython.core.display.HTML object>"
      ]
     },
     "metadata": {},
     "output_type": "display_data"
    }
   ],
   "source": [
    "# Just run this cell\n",
    "# Read in the cal_fb csv file\n",
    "games = Table().read_table(\"cal_fb.csv\")\n",
    "games.show()"
   ]
  },
  {
   "cell_type": "markdown",
   "id": "6a4f47c4",
   "metadata": {
    "deletable": false,
    "editable": false
   },
   "source": [
    "Let's start by finding the total points each team scored in a game.\n",
    "\n",
    "**Question 1.** Write a function called `sum_scores`.  It should take four arguments, where each argument represents integers corresponding to the team's score for each quarter. It should return the team's total score for that game. **(20 Points)**\n",
    "\n",
    "*Note:* Don't overthink this question!\n",
    "\n",
    "\n",
    "<!--\n",
    "BEGIN QUESTION\n",
    "name: q1_1\n",
    "manual: false\n",
    "points:\n",
    " - 10\n",
    " - 10\n",
    "-->"
   ]
  },
  {
   "cell_type": "code",
   "execution_count": 4,
   "id": "375a8835",
   "metadata": {
    "execution": {
     "iopub.execute_input": "2022-02-16T22:50:21.500140Z",
     "iopub.status.busy": "2022-02-16T22:50:21.499476Z",
     "iopub.status.idle": "2022-02-16T22:50:21.503043Z",
     "shell.execute_reply": "2022-02-16T22:50:21.502615Z"
    }
   },
   "outputs": [
    {
     "data": {
      "text/plain": [
       "24"
      ]
     },
     "execution_count": 4,
     "metadata": {},
     "output_type": "execute_result"
    }
   ],
   "source": [
    "def sum_scores(q1,q2,q3,q4):\n",
    "    '''Returns the total score calculated by adding up the score of each quarter'''\n",
    "    score = q1+q2+q3+q4\n",
    "    return score\n",
    "\n",
    "sum_scores(14, 7, 3, 0) #DO NOT CHANGE THIS LINE"
   ]
  },
  {
   "cell_type": "code",
   "execution_count": 5,
   "id": "284e9c96",
   "metadata": {
    "deletable": false,
    "editable": false
   },
   "outputs": [
    {
     "data": {
      "text/html": [
       "<p><strong><pre style='display: inline;'>q1_1</pre></strong> passed!</p>"
      ],
      "text/plain": [
       "q1_1 results: All test cases passed!"
      ]
     },
     "execution_count": 5,
     "metadata": {},
     "output_type": "execute_result"
    }
   ],
   "source": [
    "grader.check(\"q1_1\")"
   ]
  },
  {
   "cell_type": "markdown",
   "id": "d58a6038",
   "metadata": {
    "deletable": false,
    "editable": false
   },
   "source": [
    "**Question 2.** Create a new table `final_scores` with three columns in this *specific* order: `Opponent`, `Cal Score`, `Opponent Score`. You will have to create the `Cal Score` and `Opponent Score` columns. Use the function `sum_scores` you just defined in the previous question for this problem. **(20 Points)**\n",
    "\n",
    "*Hint:* If you want to apply a function that takes in multiple arguments, you can pass multiple column names as arguments in `tbl.apply()`. The column values will be passed into the corresponding arguments of the function. Take a look at the Python Reference Sheet and Lecture 13's demo for syntax.\n",
    "\n",
    "*Note:* If you’re running into issues creating `final_scores`, check that `cal_scores` and `opponent_scores` output what you want. \n",
    "\n",
    "<!--\n",
    "BEGIN QUESTION\n",
    "name: q1_2\n",
    "manual: false\n",
    "points:\n",
    " - 0\n",
    " - 0\n",
    " - 20\n",
    "-->"
   ]
  },
  {
   "cell_type": "code",
   "execution_count": 6,
   "id": "ffd3c017",
   "metadata": {
    "execution": {
     "iopub.execute_input": "2022-02-16T22:50:21.528539Z",
     "iopub.status.busy": "2022-02-16T22:50:21.527939Z",
     "iopub.status.idle": "2022-02-16T22:50:21.532020Z",
     "shell.execute_reply": "2022-02-16T22:50:21.531493Z"
    }
   },
   "outputs": [
    {
     "data": {
      "text/html": [
       "<table border=\"1\" class=\"dataframe\">\n",
       "    <thead>\n",
       "        <tr>\n",
       "            <th>Opponent</th> <th>Cal Score</th> <th>Opponent Score</th>\n",
       "        </tr>\n",
       "    </thead>\n",
       "    <tbody>\n",
       "        <tr>\n",
       "            <td>Nevada          </td> <td>17       </td> <td>22            </td>\n",
       "        </tr>\n",
       "        <tr>\n",
       "            <td>TCU             </td> <td>32       </td> <td>34            </td>\n",
       "        </tr>\n",
       "        <tr>\n",
       "            <td>Sacramento State</td> <td>42       </td> <td>30            </td>\n",
       "        </tr>\n",
       "        <tr>\n",
       "            <td>Washington      </td> <td>24       </td> <td>31            </td>\n",
       "        </tr>\n",
       "        <tr>\n",
       "            <td>Washington State</td> <td>6        </td> <td>21            </td>\n",
       "        </tr>\n",
       "        <tr>\n",
       "            <td>Oregon          </td> <td>17       </td> <td>24            </td>\n",
       "        </tr>\n",
       "        <tr>\n",
       "            <td>Colorado        </td> <td>26       </td> <td>3             </td>\n",
       "        </tr>\n",
       "        <tr>\n",
       "            <td>Oregon State    </td> <td>39       </td> <td>25            </td>\n",
       "        </tr>\n",
       "        <tr>\n",
       "            <td>Arizona         </td> <td>3        </td> <td>10            </td>\n",
       "        </tr>\n",
       "        <tr>\n",
       "            <td>Stanford        </td> <td>41       </td> <td>11            </td>\n",
       "        </tr>\n",
       "    </tbody>\n",
       "</table>\n",
       "<p>... (2 rows omitted)</p>"
      ],
      "text/plain": [
       "Opponent         | Cal Score | Opponent Score\n",
       "Nevada           | 17        | 22\n",
       "TCU              | 32        | 34\n",
       "Sacramento State | 42        | 30\n",
       "Washington       | 24        | 31\n",
       "Washington State | 6         | 21\n",
       "Oregon           | 17        | 24\n",
       "Colorado         | 26        | 3\n",
       "Oregon State     | 39        | 25\n",
       "Arizona          | 3         | 10\n",
       "Stanford         | 41        | 11\n",
       "... (2 rows omitted)"
      ]
     },
     "execution_count": 6,
     "metadata": {},
     "output_type": "execute_result"
    }
   ],
   "source": [
    "cal_scores = games.apply(sum_scores,'Cal 1Q','Cal 2Q','Cal 3Q','Cal 4Q')\n",
    "opponent_scores = games.apply(sum_scores,'Opp 1Q','Opp 2Q','Opp 3Q','Opp 4Q')\n",
    "final_scores = games.select(0).with_columns('Cal Score',cal_scores,'Opponent Score',opponent_scores)\n",
    "final_scores"
   ]
  },
  {
   "cell_type": "code",
   "execution_count": 7,
   "id": "0e38be5f",
   "metadata": {
    "deletable": false,
    "editable": false
   },
   "outputs": [
    {
     "data": {
      "text/html": [
       "<p><strong><pre style='display: inline;'>q1_2</pre></strong> passed!</p>"
      ],
      "text/plain": [
       "q1_2 results: All test cases passed!"
      ]
     },
     "execution_count": 7,
     "metadata": {},
     "output_type": "execute_result"
    }
   ],
   "source": [
    "grader.check(\"q1_2\")"
   ]
  },
  {
   "cell_type": "markdown",
   "id": "c1577485",
   "metadata": {},
   "source": [
    "We can get specific row objects from a table. You can use `tbl.row(n)` to get the `n`th row of a table. `row.item(\"column_name\")` will allow you to select the element that corresponds to `column_name` in a particular row. Here's an example:"
   ]
  },
  {
   "cell_type": "code",
   "execution_count": 8,
   "id": "31b59daa",
   "metadata": {
    "deletable": false,
    "editable": false,
    "execution": {
     "iopub.execute_input": "2022-02-16T22:50:21.589149Z",
     "iopub.status.busy": "2022-02-16T22:50:21.588621Z",
     "iopub.status.idle": "2022-02-16T22:50:21.592001Z",
     "shell.execute_reply": "2022-02-16T22:50:21.591581Z"
    }
   },
   "outputs": [
    {
     "data": {
      "text/plain": [
       "Row(Opponent='Stanford', Cal 1Q=0, Cal 2Q=14, Cal 3Q=13, Cal 4Q=14, Opp 1Q=0, Opp 2Q=3, Opp 3Q=0, Opp 4Q=8)"
      ]
     },
     "execution_count": 8,
     "metadata": {},
     "output_type": "execute_result"
    }
   ],
   "source": [
    "# Just run this cell\n",
    "# We got the Axe!\n",
    "games.row(9)"
   ]
  },
  {
   "cell_type": "code",
   "execution_count": 9,
   "id": "5a10ba37",
   "metadata": {
    "deletable": false,
    "editable": false,
    "execution": {
     "iopub.execute_input": "2022-02-16T22:50:21.597067Z",
     "iopub.status.busy": "2022-02-16T22:50:21.596590Z",
     "iopub.status.idle": "2022-02-16T22:50:21.600251Z",
     "shell.execute_reply": "2022-02-16T22:50:21.599728Z"
    }
   },
   "outputs": [
    {
     "data": {
      "text/plain": [
       "14"
      ]
     },
     "execution_count": 9,
     "metadata": {},
     "output_type": "execute_result"
    }
   ],
   "source": [
    "# Just run this cell\n",
    "games.row(9).item(\"Cal 4Q\")"
   ]
  },
  {
   "cell_type": "markdown",
   "id": "bd8ba25b",
   "metadata": {
    "deletable": false,
    "editable": false
   },
   "source": [
    "**Question 3.** We want to see for a particular game whether or not Cal lost. Write a function called `did_cal_lose`.  It should take one argument: a **row object** from the `final_scores` table. It should return either `True` if Cal's score was less than the Opponent's score, and `False` otherwise. **(20 Points)**\n",
    "\n",
    "*Note 1*: \"Row object\" means a row from the table that contains all the data for that specific row. It is **not** the index of a row. Do not try and call `final_scores.row(row)` inside of the function.\n",
    "\n",
    "*Note 2*: If you're still confused by row objects, try printing out `final_scores.row(1)` in a new cell to visually see what it looks like! This piece of code is pulling out the row object located at index 1 of the `final_scores` table and returning it. When you display it in a cell, you'll see that it is not located within a table, but is instead a standalone row object!\n",
    "\n",
    "<!--\n",
    "BEGIN QUESTION\n",
    "name: q1_3\n",
    "manual: false\n",
    "points:\n",
    " - 0\n",
    " - 10\n",
    " - 10\n",
    "-->"
   ]
  },
  {
   "cell_type": "code",
   "execution_count": 10,
   "id": "51a5115e",
   "metadata": {},
   "outputs": [
    {
     "data": {
      "text/plain": [
       "Row(Opponent='TCU', Cal Score=32, Opponent Score=34)"
      ]
     },
     "execution_count": 10,
     "metadata": {},
     "output_type": "execute_result"
    }
   ],
   "source": [
    "final_scores.row(1)"
   ]
  },
  {
   "cell_type": "code",
   "execution_count": 11,
   "id": "7698cfba",
   "metadata": {
    "execution": {
     "iopub.execute_input": "2022-02-16T22:50:21.606018Z",
     "iopub.status.busy": "2022-02-16T22:50:21.605432Z",
     "iopub.status.idle": "2022-02-16T22:50:21.608945Z",
     "shell.execute_reply": "2022-02-16T22:50:21.608474Z"
    }
   },
   "outputs": [
    {
     "data": {
      "text/plain": [
       "True"
      ]
     },
     "execution_count": 11,
     "metadata": {},
     "output_type": "execute_result"
    }
   ],
   "source": [
    "def did_cal_lose(row):\n",
    "    if row.item('Cal Score') < row.item('Opponent Score'):\n",
    "        return True\n",
    "    return False\n",
    "\n",
    "did_cal_lose(final_scores.row(1)) #DO NOT CHANGE THIS LINE"
   ]
  },
  {
   "cell_type": "code",
   "execution_count": 12,
   "id": "96d4870c",
   "metadata": {
    "deletable": false,
    "editable": false
   },
   "outputs": [
    {
     "data": {
      "text/html": [
       "<p><strong><pre style='display: inline;'>q1_3</pre></strong> passed!</p>"
      ],
      "text/plain": [
       "q1_3 results: All test cases passed!"
      ]
     },
     "execution_count": 12,
     "metadata": {},
     "output_type": "execute_result"
    }
   ],
   "source": [
    "grader.check(\"q1_3\")"
   ]
  },
  {
   "cell_type": "markdown",
   "id": "edd7a59f",
   "metadata": {
    "deletable": false,
    "editable": false
   },
   "source": [
    "**Question 4.** James wants to see how Cal did against every opponent during the 2021 season. Using the `final_scores` table:\n",
    "\n",
    "1. Assign `results` to an array of `True` and `False` values that correspond to whether or not Cal lost.\n",
    "2. Add the `results` array to the `final_scores` table in a column named `Results`, and assign this to `final_scores_with_results`.\n",
    "3. Then, respectively assign the number of wins and losses Cal had to `cal_wins` and `cal_losses`.\n",
    "\n",
    "**(20 Points)**\n",
    "\n",
    "*Hint 1*: `True` and `False` are **not** strings. What data type are they?\n",
    "\n",
    "*Hint 2*: `tbl.num_rows` might be helpful too.\n",
    "\n",
    "*Hint 3*: When you only pass a function name and no column labels through `tbl.apply()`, the function gets applied to every row in `tbl`.\n",
    "\n",
    "\n",
    "<!--\n",
    "BEGIN QUESTION\n",
    "name: q1_4\n",
    "manual: false\n",
    "points:\n",
    " - 0\n",
    " - 0\n",
    " - 10\n",
    " - 10\n",
    "-->"
   ]
  },
  {
   "cell_type": "code",
   "execution_count": 13,
   "id": "c5f6426a",
   "metadata": {
    "execution": {
     "iopub.execute_input": "2022-02-16T22:50:21.640543Z",
     "iopub.status.busy": "2022-02-16T22:50:21.640001Z",
     "iopub.status.idle": "2022-02-16T22:50:21.643598Z",
     "shell.execute_reply": "2022-02-16T22:50:21.642863Z"
    }
   },
   "outputs": [
    {
     "name": "stdout",
     "output_type": "stream",
     "text": [
      "In the 2021 Season, Cal Football won 5 games and lost 7 games. Go Bears! 🐻\n"
     ]
    }
   ],
   "source": [
    "results = final_scores.apply(did_cal_lose)\n",
    "final_scores_with_results = final_scores.with_column('Results',results)\n",
    "cal_losses = final_scores_with_results.where('Results',True).num_rows\n",
    "cal_wins = final_scores_with_results.where('Results',False).num_rows\n",
    "\n",
    "# Don't delete or edit the following line:\n",
    "print(f\"In the 2021 Season, Cal Football won {cal_wins} games and lost {cal_losses} games. Go Bears! 🐻\")"
   ]
  },
  {
   "cell_type": "code",
   "execution_count": 14,
   "id": "922bc5bf",
   "metadata": {
    "deletable": false,
    "editable": false
   },
   "outputs": [
    {
     "data": {
      "text/html": [
       "<p><strong><pre style='display: inline;'>q1_4</pre></strong> passed!</p>"
      ],
      "text/plain": [
       "q1_4 results: All test cases passed!"
      ]
     },
     "execution_count": 14,
     "metadata": {},
     "output_type": "execute_result"
    }
   ],
   "source": [
    "grader.check(\"q1_4\")"
   ]
  },
  {
   "cell_type": "markdown",
   "id": "db2c96d6",
   "metadata": {
    "deletable": false,
    "editable": false
   },
   "source": [
    "**Question 5:** Sometimes in football the two teams are equally matched and the game is quite close. Other times, it is a blowout, where the winning team wins by a large margin of victory. Let's define a **big win** to be a game in which the winning team won by more than 10 points.\n",
    "\n",
    "Use your `final_scores` table to assign `big_wins` to an array of team names that Cal had big wins against during the 2021 football season. You may find the `is_big_win` function defined below helpful to you! **(20 Points)**\n",
    "\n",
    "<!--\n",
    "BEGIN QUESTION\n",
    "name: q1_5\n",
    "manual: false\n",
    "points:\n",
    " - 5\n",
    " - 5\n",
    " - 10\n",
    "-->"
   ]
  },
  {
   "cell_type": "code",
   "execution_count": 19,
   "id": "fe51228d",
   "metadata": {
    "execution": {
     "iopub.execute_input": "2022-02-16T22:50:21.720329Z",
     "iopub.status.busy": "2022-02-16T22:50:21.719719Z",
     "iopub.status.idle": "2022-02-16T22:50:21.722589Z",
     "shell.execute_reply": "2022-02-16T22:50:21.722968Z"
    }
   },
   "outputs": [
    {
     "data": {
      "text/plain": [
       "array(['Sacramento State', 'Colorado', 'Oregon State', 'Stanford'],\n",
       "      dtype='<U32')"
      ]
     },
     "execution_count": 19,
     "metadata": {},
     "output_type": "execute_result"
    }
   ],
   "source": [
    "def is_big_win(row):\n",
    "    '''Return a boolean to describe whether or not a game (row) is a big win'''\n",
    "    score_diff = row.item(\"Cal Score\") - row.item(\"Opponent Score\")\n",
    "    \n",
    "    if score_diff > 10:\n",
    "        return True\n",
    "    else:\n",
    "        return False\n",
    "\n",
    "big_wins = make_array()\n",
    "\n",
    "for row in final_scores.rows: # This will help us iterate through rows of final_scores table\n",
    "    opponent = row.item('Opponent')\n",
    "    if is_big_win(row) == True: # You should use the function defined above!\n",
    "        big_wins = np.append(big_wins, opponent) # Do not change this line - Adds character to the end of some_string\n",
    "big_wins"
   ]
  },
  {
   "cell_type": "code",
   "execution_count": 20,
   "id": "96ffee6b",
   "metadata": {
    "deletable": false,
    "editable": false
   },
   "outputs": [
    {
     "data": {
      "text/html": [
       "<p><strong><pre style='display: inline;'>q1_5</pre></strong> passed!</p>"
      ],
      "text/plain": [
       "q1_5 results: All test cases passed!"
      ]
     },
     "execution_count": 20,
     "metadata": {},
     "output_type": "execute_result"
    }
   ],
   "source": [
    "grader.check(\"q1_5\")"
   ]
  },
  {
   "cell_type": "markdown",
   "id": "2bcea6b7",
   "metadata": {},
   "source": [
    "You're done with the required section of Homework 5! Continue on to the optional section for some more practice with iterations and for loops.\n",
    "\n",
    "Make sure to **run the submit cell located at the bottom of this notebook.**"
   ]
  },
  {
   "cell_type": "markdown",
   "id": "0d3db417",
   "metadata": {},
   "source": [
    "## 2. Unrolling Loops (Optional)"
   ]
  },
  {
   "cell_type": "markdown",
   "id": "29ba6336",
   "metadata": {},
   "source": [
    "**This section of HW5 is optional. Do it for your own practice, but it will not be incorporated into the final grading!**\n",
    "\n",
    "\"Unrolling\" a `for` loop means to manually write out all the code that it executes.  The result is code that does the same thing as the loop, but without the structure of the loop.  For example, for the following loop:\n",
    "\n",
    "    for num in np.arange(3):\n",
    "        print(\"The number is\", num)\n",
    "\n",
    "The unrolled version would look like this:\n",
    "\n",
    "    print(\"The number is\", 0)\n",
    "    print(\"The number is\", 1)\n",
    "    print(\"The number is\", 2)\n",
    "\n",
    "\n",
    "Unrolling a `for` loop is a great way to understand what the loop is doing during each step. In this exercise, you'll practice unrolling a `for` loop.\n",
    "\n",
    "\n",
    "In the question below, write code that does the same thing as the given code, but with any `for` loops unrolled.  It's a good idea to run both your answer and the original code to verify that they do the same thing.  (Of course, if the code does something random, you'll get a different random outcome than the original code!)"
   ]
  },
  {
   "cell_type": "markdown",
   "id": "6aee53fa",
   "metadata": {
    "deletable": false,
    "editable": false
   },
   "source": [
    "**Optional Question 1.** Unroll the code below.\n",
    "<!--\n",
    "BEGIN QUESTION\n",
    "name: q2_1\n",
    "manual: false\n",
    "-->"
   ]
  },
  {
   "cell_type": "code",
   "execution_count": 32,
   "id": "55351c7a",
   "metadata": {
    "execution": {
     "iopub.execute_input": "2022-02-16T22:50:21.751270Z",
     "iopub.status.busy": "2022-02-16T22:50:21.750621Z",
     "iopub.status.idle": "2022-02-16T22:50:21.787773Z",
     "shell.execute_reply": "2022-02-16T22:50:21.787271Z"
    }
   },
   "outputs": [],
   "source": [
    "for joke_iteration in np.arange(3):\n",
    "    print(\"Knock, knock.\")\n",
    "    print(\"Who's there?\")\n",
    "    print(\"Banana.\")\n",
    "    print(\"Banana who?\")\n",
    "print(\"Knock, knock.\")\n",
    "print(\"Who's there?\")\n",
    "print(\"Orange.\")\n",
    "print(\"Orange who?\")\n",
    "print(\"Orange you glad I didn't say banana?\")"
   ]
  },
  {
   "cell_type": "code",
   "execution_count": 33,
   "id": "830797d6",
   "metadata": {
    "execution": {
     "iopub.execute_input": "2022-02-16T22:50:21.794285Z",
     "iopub.status.busy": "2022-02-16T22:50:21.793534Z",
     "iopub.status.idle": "2022-02-16T22:50:21.799135Z",
     "shell.execute_reply": "2022-02-16T22:50:21.798688Z"
    },
    "for_assignment_type": "solution"
   },
   "outputs": [],
   "source": [
    "..."
   ]
  },
  {
   "cell_type": "markdown",
   "id": "b8033fb4",
   "metadata": {},
   "source": [
    "Congratulations, you are done with Homework 5!\n",
    "\n",
    "\n",
    "**Important submission steps:** \n",
    "1. Run the tests and verify that they all pass.\n",
    "2. Choose **Save Notebook** from the **File** menu or **Download** as **ipynb**. \n",
    "3. Then submit the file to the corresponding assignment in Gradescope. \n",
    "\n",
    "**It is your responsibility to make sure your work is saved before downloading.**"
   ]
  },
  {
   "cell_type": "markdown",
   "id": "7e27bf82",
   "metadata": {
    "deletable": false,
    "editable": false
   },
   "source": [
    "---\n",
    "\n",
    "To double-check your work, the cell below will rerun all of the autograder tests."
   ]
  },
  {
   "cell_type": "code",
   "execution_count": 21,
   "id": "05388dcc",
   "metadata": {
    "deletable": false,
    "editable": false
   },
   "outputs": [
    {
     "data": {
      "text/plain": [
       "q1_1 results: All test cases passed!\n",
       "\n",
       "q1_2 results: All test cases passed!\n",
       "\n",
       "q1_3 results: All test cases passed!\n",
       "\n",
       "q1_4 results: All test cases passed!\n",
       "\n",
       "q1_5 results: All test cases passed!"
      ]
     },
     "execution_count": 21,
     "metadata": {},
     "output_type": "execute_result"
    }
   ],
   "source": [
    "grader.check_all()"
   ]
  },
  {
   "cell_type": "code",
   "execution_count": null,
   "id": "d77bdea6",
   "metadata": {},
   "outputs": [],
   "source": []
  }
 ],
 "metadata": {
  "kernelspec": {
   "display_name": "Python 3",
   "language": "python",
   "name": "python3"
  },
  "language_info": {
   "codemirror_mode": {
    "name": "ipython",
    "version": 3
   },
   "file_extension": ".py",
   "mimetype": "text/x-python",
   "name": "python",
   "nbconvert_exporter": "python",
   "pygments_lexer": "ipython3",
   "version": "3.8.10"
  }
 },
 "nbformat": 4,
 "nbformat_minor": 5
}
