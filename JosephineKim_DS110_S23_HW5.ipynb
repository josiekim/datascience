{
  "cells": [
    {
      "cell_type": "markdown",
      "metadata": {
        "id": "4QjxoHMoAqof"
      },
      "source": [
        "# HW5 (60 points possible)"
      ]
    },
    {
      "cell_type": "markdown",
      "metadata": {
        "id": "wWuBjlYtCnEZ"
      },
      "source": [
        "Also needs Pokemon.csv and debts.csv, available from the same place you downloaded this file."
      ]
    },
    {
      "cell_type": "markdown",
      "metadata": {
        "id": "KAL1n2uMAorU"
      },
      "source": [
        "# Problem 1: Counting Pokémon (30 points: 10, 14, 6)\n",
        "\n",
        "You work for the creators of Pokémon GO, a game where players try to collect odd-looking monsters called Pokémon by venturing to real-life locations.  You got a CSV file with each player's name followed by a list of Pokemon they've captured, but the list could contain duplicates.  The goal is to create a JSON file that maps each player to the *number* of unique Pokemon they've captured.\n",
        "\n",
        "a) (10 points) Write a function count_pokemon() that takes a comma-separated string of Pokémon names and returns the number of unique Pokémon mentioned.  (Not only could there be duplicates in the string, but there may be whitespace differences that shouldn't matter; be sure to use strip().)\n",
        "\n",
        "b) (14 points) Write a function pokemon_to_dict() that takes as its only argument the name of a CSV file.  The CSV file has player names in its first column and comma-separated Pokemon lists as its second column (see part a).  (You can assume there is *no* header line that is different from all the others - all the lines contain data in the format described.)  The function should return a dictionary where the keys are player names, and the values are the number of unique Pokémon associated with their player (see part a).\n",
        "\n",
        "If the file isn't there, a FileNotFoundError should be handled by printing a message that states the particular filename in the argument wasn't found.\n",
        "\n",
        "A sample Pokémon CSV, pokemon.csv, has been provided for this part.\n",
        "\n",
        "c) (6 points) Write a function dict_to_json() that takes a dictionary and a filename as an arguments a dictionary of the kind created in part (b) and an output filename; the function should write the JSON implied by the dictionary to the given filename.\n",
        "\n",
        "Use the following code box to upload the sample Pokemon.csv file, and include your final code for parts (a)-(c) in the code box after that."
      ]
    },
    {
      "cell_type": "code",
      "execution_count": null,
      "metadata": {
        "colab": {
          "base_uri": "https://localhost:8080/",
          "height": 127
        },
        "id": "3Yj24VI7_Buf",
        "outputId": "afb66e77-02f7-410d-b824-7f69e17c4849"
      },
      "outputs": [
        {
          "output_type": "display_data",
          "data": {
            "text/plain": [
              "<IPython.core.display.HTML object>"
            ],
            "text/html": [
              "\n",
              "     <input type=\"file\" id=\"files-13d9d6dd-4ac5-478c-ad76-7a605ff97208\" name=\"files[]\" multiple disabled\n",
              "        style=\"border:none\" />\n",
              "     <output id=\"result-13d9d6dd-4ac5-478c-ad76-7a605ff97208\">\n",
              "      Upload widget is only available when the cell has been executed in the\n",
              "      current browser session. Please rerun this cell to enable.\n",
              "      </output>\n",
              "      <script>// Copyright 2017 Google LLC\n",
              "//\n",
              "// Licensed under the Apache License, Version 2.0 (the \"License\");\n",
              "// you may not use this file except in compliance with the License.\n",
              "// You may obtain a copy of the License at\n",
              "//\n",
              "//      http://www.apache.org/licenses/LICENSE-2.0\n",
              "//\n",
              "// Unless required by applicable law or agreed to in writing, software\n",
              "// distributed under the License is distributed on an \"AS IS\" BASIS,\n",
              "// WITHOUT WARRANTIES OR CONDITIONS OF ANY KIND, either express or implied.\n",
              "// See the License for the specific language governing permissions and\n",
              "// limitations under the License.\n",
              "\n",
              "/**\n",
              " * @fileoverview Helpers for google.colab Python module.\n",
              " */\n",
              "(function(scope) {\n",
              "function span(text, styleAttributes = {}) {\n",
              "  const element = document.createElement('span');\n",
              "  element.textContent = text;\n",
              "  for (const key of Object.keys(styleAttributes)) {\n",
              "    element.style[key] = styleAttributes[key];\n",
              "  }\n",
              "  return element;\n",
              "}\n",
              "\n",
              "// Max number of bytes which will be uploaded at a time.\n",
              "const MAX_PAYLOAD_SIZE = 100 * 1024;\n",
              "\n",
              "function _uploadFiles(inputId, outputId) {\n",
              "  const steps = uploadFilesStep(inputId, outputId);\n",
              "  const outputElement = document.getElementById(outputId);\n",
              "  // Cache steps on the outputElement to make it available for the next call\n",
              "  // to uploadFilesContinue from Python.\n",
              "  outputElement.steps = steps;\n",
              "\n",
              "  return _uploadFilesContinue(outputId);\n",
              "}\n",
              "\n",
              "// This is roughly an async generator (not supported in the browser yet),\n",
              "// where there are multiple asynchronous steps and the Python side is going\n",
              "// to poll for completion of each step.\n",
              "// This uses a Promise to block the python side on completion of each step,\n",
              "// then passes the result of the previous step as the input to the next step.\n",
              "function _uploadFilesContinue(outputId) {\n",
              "  const outputElement = document.getElementById(outputId);\n",
              "  const steps = outputElement.steps;\n",
              "\n",
              "  const next = steps.next(outputElement.lastPromiseValue);\n",
              "  return Promise.resolve(next.value.promise).then((value) => {\n",
              "    // Cache the last promise value to make it available to the next\n",
              "    // step of the generator.\n",
              "    outputElement.lastPromiseValue = value;\n",
              "    return next.value.response;\n",
              "  });\n",
              "}\n",
              "\n",
              "/**\n",
              " * Generator function which is called between each async step of the upload\n",
              " * process.\n",
              " * @param {string} inputId Element ID of the input file picker element.\n",
              " * @param {string} outputId Element ID of the output display.\n",
              " * @return {!Iterable<!Object>} Iterable of next steps.\n",
              " */\n",
              "function* uploadFilesStep(inputId, outputId) {\n",
              "  const inputElement = document.getElementById(inputId);\n",
              "  inputElement.disabled = false;\n",
              "\n",
              "  const outputElement = document.getElementById(outputId);\n",
              "  outputElement.innerHTML = '';\n",
              "\n",
              "  const pickedPromise = new Promise((resolve) => {\n",
              "    inputElement.addEventListener('change', (e) => {\n",
              "      resolve(e.target.files);\n",
              "    });\n",
              "  });\n",
              "\n",
              "  const cancel = document.createElement('button');\n",
              "  inputElement.parentElement.appendChild(cancel);\n",
              "  cancel.textContent = 'Cancel upload';\n",
              "  const cancelPromise = new Promise((resolve) => {\n",
              "    cancel.onclick = () => {\n",
              "      resolve(null);\n",
              "    };\n",
              "  });\n",
              "\n",
              "  // Wait for the user to pick the files.\n",
              "  const files = yield {\n",
              "    promise: Promise.race([pickedPromise, cancelPromise]),\n",
              "    response: {\n",
              "      action: 'starting',\n",
              "    }\n",
              "  };\n",
              "\n",
              "  cancel.remove();\n",
              "\n",
              "  // Disable the input element since further picks are not allowed.\n",
              "  inputElement.disabled = true;\n",
              "\n",
              "  if (!files) {\n",
              "    return {\n",
              "      response: {\n",
              "        action: 'complete',\n",
              "      }\n",
              "    };\n",
              "  }\n",
              "\n",
              "  for (const file of files) {\n",
              "    const li = document.createElement('li');\n",
              "    li.append(span(file.name, {fontWeight: 'bold'}));\n",
              "    li.append(span(\n",
              "        `(${file.type || 'n/a'}) - ${file.size} bytes, ` +\n",
              "        `last modified: ${\n",
              "            file.lastModifiedDate ? file.lastModifiedDate.toLocaleDateString() :\n",
              "                                    'n/a'} - `));\n",
              "    const percent = span('0% done');\n",
              "    li.appendChild(percent);\n",
              "\n",
              "    outputElement.appendChild(li);\n",
              "\n",
              "    const fileDataPromise = new Promise((resolve) => {\n",
              "      const reader = new FileReader();\n",
              "      reader.onload = (e) => {\n",
              "        resolve(e.target.result);\n",
              "      };\n",
              "      reader.readAsArrayBuffer(file);\n",
              "    });\n",
              "    // Wait for the data to be ready.\n",
              "    let fileData = yield {\n",
              "      promise: fileDataPromise,\n",
              "      response: {\n",
              "        action: 'continue',\n",
              "      }\n",
              "    };\n",
              "\n",
              "    // Use a chunked sending to avoid message size limits. See b/62115660.\n",
              "    let position = 0;\n",
              "    do {\n",
              "      const length = Math.min(fileData.byteLength - position, MAX_PAYLOAD_SIZE);\n",
              "      const chunk = new Uint8Array(fileData, position, length);\n",
              "      position += length;\n",
              "\n",
              "      const base64 = btoa(String.fromCharCode.apply(null, chunk));\n",
              "      yield {\n",
              "        response: {\n",
              "          action: 'append',\n",
              "          file: file.name,\n",
              "          data: base64,\n",
              "        },\n",
              "      };\n",
              "\n",
              "      let percentDone = fileData.byteLength === 0 ?\n",
              "          100 :\n",
              "          Math.round((position / fileData.byteLength) * 100);\n",
              "      percent.textContent = `${percentDone}% done`;\n",
              "\n",
              "    } while (position < fileData.byteLength);\n",
              "  }\n",
              "\n",
              "  // All done.\n",
              "  yield {\n",
              "    response: {\n",
              "      action: 'complete',\n",
              "    }\n",
              "  };\n",
              "}\n",
              "\n",
              "scope.google = scope.google || {};\n",
              "scope.google.colab = scope.google.colab || {};\n",
              "scope.google.colab._files = {\n",
              "  _uploadFiles,\n",
              "  _uploadFilesContinue,\n",
              "};\n",
              "})(self);\n",
              "</script> "
            ]
          },
          "metadata": {}
        },
        {
          "output_type": "stream",
          "name": "stdout",
          "text": [
            "Saving Pokemon.csv to Pokemon.csv\n"
          ]
        },
        {
          "output_type": "execute_result",
          "data": {
            "text/plain": [
              "{'Pokemon.csv': b'Alice,\"Pikachu,Charizard,Evee,Snorlax,Charmander, Ditto, Sylveon\"\\r\\nBob,\"Pikachu, Charizard, Pikachu, Charizard, Sylveon\"\\r\\nCarol,\"Ditto, Bulbasaur, Snorlax, Bulbasaur\"\\r\\nDeng,\"Squirtle, Mewtwo , Charmander\"\\r\\nEileen,\"Snorlax, Pikachu, Pikachu, Sylveon\"\\r\\nFatima,\"Lucario, Mew, Garchomp, Bulbasaur, Jigglypuff\"\\r\\n'}"
            ]
          },
          "metadata": {},
          "execution_count": 13
        }
      ],
      "source": [
        "from google.colab import files\n",
        "files.upload()"
      ]
    },
    {
      "cell_type": "code",
      "execution_count": null,
      "metadata": {
        "id": "um1Ejkp1CD7M",
        "colab": {
          "base_uri": "https://localhost:8080/"
        },
        "outputId": "c82a7243-0c63-4034-ff4c-8e12eadbb74f"
      },
      "outputs": [
        {
          "output_type": "stream",
          "name": "stdout",
          "text": [
            "1\n",
            "File not found: pokemon.csv\n",
            "None\n"
          ]
        }
      ],
      "source": [
        "import csv\n",
        "\n",
        "def count_pokemon(string):\n",
        "  pokeset = set()\n",
        "  count = 0\n",
        "  pokemon = string.split(',')\n",
        "  for words in pokemon:\n",
        "    words = words.strip()\n",
        "    if words not in pokeset:\n",
        "      pokeset.add(words)\n",
        "      count += 1\n",
        "  return count\n",
        "\n",
        "print(count_pokemon('Pikachu'))\n",
        "\n",
        "def pokemon_to_dict(filename):\n",
        "  result = {}\n",
        "  try:\n",
        "    with open(filename, 'r') as myfile:\n",
        "      myreader = csv.reader(myfile)\n",
        "      for name,string in myreader:\n",
        "        result[name] = count_pokemon(string)\n",
        "      return result\n",
        "  except FileNotFoundError:\n",
        "    print('File not found: ' + filename)\n",
        "  \n",
        "\n",
        "print(pokemon_to_dict('pokemon.csv'))\n",
        "\n",
        "import json\n",
        "\n",
        "def dict_to_json(dict, filename):\n",
        "    with open(filename, 'w') as myfile:\n",
        "      json.dump(dict, myfile)\n",
        "    return myfile\n",
        "# TODO:  count_pokemon, pokemon_to_dict, dict_to_json"
      ]
    },
    {
      "cell_type": "code",
      "execution_count": null,
      "metadata": {
        "colab": {
          "base_uri": "https://localhost:8080/"
        },
        "id": "pLlfJCipCJqj",
        "outputId": "cc2d2fef-7359-485a-f836-75d048617ce9"
      },
      "outputs": [
        {
          "output_type": "stream",
          "name": "stdout",
          "text": [
            "debts.csv  poke.json  Pokemon.csv  sample_data\n",
            "{\"Alice\": 7, \"Bob\": 3, \"Carol\": 3, \"Deng\": 3, \"Eileen\": 3, \"Fatima\": 5}"
          ]
        }
      ],
      "source": [
        "mydict = pokemon_to_dict('Pokemon.csv')\n",
        "dict_to_json(mydict, 'poke.json')\n",
        "!ls\n",
        "!cat poke.json   # Should be Alice: 7, Bob: 3, Carol: 3, Deng: 3, Eileen: 3, Fatima: 5"
      ]
    },
    {
      "cell_type": "markdown",
      "metadata": {
        "id": "2CJB18mN_7zM"
      },
      "source": [
        "# Problem 2:  Statistical Significance (10 points: 5, 5)\n",
        "\n",
        "a) (5 points) The following two lists represent test scores for students in two groups, those who took exam prep classes and those who did not.  Determine whether there is a statistically significant difference (with $p < 0.05$) between the two groups."
      ]
    },
    {
      "cell_type": "code",
      "execution_count": null,
      "metadata": {
        "id": "0gAqT3Qu_7zN"
      },
      "outputs": [],
      "source": [
        "prep = [1360, 1310, 1110, 1310, 1400, 1320, 1410, 1470, 1280, 1380,\n",
        "        1270, 1210, 1340, 1360, 1400, 1300, 1340, 1360, 1250, 1470]\n",
        "no_prep = [1220, 1210, 1470, 1170, 1350, 1380, 1420, 1250, 1330, 1110,\n",
        "           1430, 1300, 1130, 1150, 1210, 1150, 1280, 1410, 1400, 1420]"
      ]
    },
    {
      "cell_type": "code",
      "execution_count": null,
      "metadata": {
        "colab": {
          "base_uri": "https://localhost:8080/"
        },
        "id": "GSoGhAPg_7zN",
        "outputId": "3003569a-b544-4fd9-8db5-7af44e22eba6"
      },
      "outputs": [
        {
          "output_type": "stream",
          "name": "stdout",
          "text": [
            "0.18994725223251394\n"
          ]
        }
      ],
      "source": [
        "import scipy.stats\n",
        "_, p = scipy.stats.ttest_ind(prep,no_prep)\n",
        "print(p)\n",
        "# TODO an appropriate statistical test"
      ]
    },
    {
      "cell_type": "markdown",
      "metadata": {
        "id": "5SMuCHW2_7zO"
      },
      "source": [
        "Is there a statistically significant difference?"
      ]
    },
    {
      "cell_type": "markdown",
      "source": [
        "No"
      ],
      "metadata": {
        "id": "bVDRPMTHKX82"
      }
    },
    {
      "cell_type": "markdown",
      "metadata": {
        "id": "wO0z-DoH_7zO"
      },
      "source": [
        "**TODO**"
      ]
    },
    {
      "cell_type": "markdown",
      "metadata": {
        "id": "Ro3pg2Zo_7zP"
      },
      "source": [
        "b) (5 points) One other potential difference between these two groups of students is how wealthy they are.  For the students who did test prep, 14 out of 20 have household incomes over \\\\$140,000.  Of the students who didn't do test prep, just 6 students had a household income at least that high.  Use a statistical test to determine whether there is a significant association between doing test prep and having a household income of at least \\\\$140,000."
      ]
    },
    {
      "cell_type": "code",
      "execution_count": null,
      "metadata": {
        "colab": {
          "base_uri": "https://localhost:8080/"
        },
        "id": "8zIWS7gx_7zP",
        "outputId": "3a518c94-25db-4a8a-8865-840b901e0bf1"
      },
      "outputs": [
        {
          "output_type": "stream",
          "name": "stdout",
          "text": [
            "0.02685669550752441\n"
          ]
        }
      ],
      "source": [
        "_, p, _, _ = scipy.stats.chi2_contingency([[14,6],[6,14]])\n",
        "print(p)\n",
        "# TODO an appropriate statistical test"
      ]
    },
    {
      "cell_type": "markdown",
      "metadata": {
        "id": "BtaqmRx-_7zP"
      },
      "source": [
        "Is there a significant association between these variables?"
      ]
    },
    {
      "cell_type": "markdown",
      "source": [
        "Yes"
      ],
      "metadata": {
        "id": "mM0xN0ThYDTC"
      }
    },
    {
      "cell_type": "markdown",
      "metadata": {
        "id": "6kwNxjSc_7zQ"
      },
      "source": [
        "**TODO**"
      ]
    },
    {
      "cell_type": "markdown",
      "metadata": {
        "id": "4DL4mrvv_7zQ"
      },
      "source": [
        "# Problem 3: Review (20 points)"
      ]
    },
    {
      "cell_type": "markdown",
      "metadata": {
        "id": "HQKgMQap_7zQ"
      },
      "source": [
        "A group of friends likes to gamble, but they don't always pay off their debts to each other right away.  They track their current assets (funds available for the game) and debts to each other in a CSV, debts.csv.  The first column of the CSV contains their names; the second column contains the current assets of each player, not counting any unpaid debts; and the third column lists the debts that player has to each other player.  The format of that column is person_owed_debt:amount_of_debt, comma-separated if there are multiple people owed.\n",
        "\n",
        "Write a function net_worth() that, given a player name and the dataframe corresponding to the CSV, computes and returns that player's current actual net worth:  assets, plus any debts owed to that player, minus any debts that player owes to others.  As helpers to this function, write total_debt(), which takes a player and dataframe and returns the total amount that player owes to others; and total_owed(), which takes a player and dataframe and returns the total amount owed to that player.\n",
        "\n",
        "Recall that you can convert a string to an integer with int()."
      ]
    },
    {
      "cell_type": "code",
      "execution_count": 1,
      "metadata": {
        "colab": {
          "base_uri": "https://localhost:8080/",
          "height": 129
        },
        "id": "u--8x8gl_7zQ",
        "outputId": "9ca57e90-19ef-4c6c-cd90-263a9707e911"
      },
      "outputs": [
        {
          "output_type": "display_data",
          "data": {
            "text/plain": [
              "<IPython.core.display.HTML object>"
            ],
            "text/html": [
              "\n",
              "     <input type=\"file\" id=\"files-a9b26d37-8f62-4c2f-9168-09bd817c7e0c\" name=\"files[]\" multiple disabled\n",
              "        style=\"border:none\" />\n",
              "     <output id=\"result-a9b26d37-8f62-4c2f-9168-09bd817c7e0c\">\n",
              "      Upload widget is only available when the cell has been executed in the\n",
              "      current browser session. Please rerun this cell to enable.\n",
              "      </output>\n",
              "      <script>// Copyright 2017 Google LLC\n",
              "//\n",
              "// Licensed under the Apache License, Version 2.0 (the \"License\");\n",
              "// you may not use this file except in compliance with the License.\n",
              "// You may obtain a copy of the License at\n",
              "//\n",
              "//      http://www.apache.org/licenses/LICENSE-2.0\n",
              "//\n",
              "// Unless required by applicable law or agreed to in writing, software\n",
              "// distributed under the License is distributed on an \"AS IS\" BASIS,\n",
              "// WITHOUT WARRANTIES OR CONDITIONS OF ANY KIND, either express or implied.\n",
              "// See the License for the specific language governing permissions and\n",
              "// limitations under the License.\n",
              "\n",
              "/**\n",
              " * @fileoverview Helpers for google.colab Python module.\n",
              " */\n",
              "(function(scope) {\n",
              "function span(text, styleAttributes = {}) {\n",
              "  const element = document.createElement('span');\n",
              "  element.textContent = text;\n",
              "  for (const key of Object.keys(styleAttributes)) {\n",
              "    element.style[key] = styleAttributes[key];\n",
              "  }\n",
              "  return element;\n",
              "}\n",
              "\n",
              "// Max number of bytes which will be uploaded at a time.\n",
              "const MAX_PAYLOAD_SIZE = 100 * 1024;\n",
              "\n",
              "function _uploadFiles(inputId, outputId) {\n",
              "  const steps = uploadFilesStep(inputId, outputId);\n",
              "  const outputElement = document.getElementById(outputId);\n",
              "  // Cache steps on the outputElement to make it available for the next call\n",
              "  // to uploadFilesContinue from Python.\n",
              "  outputElement.steps = steps;\n",
              "\n",
              "  return _uploadFilesContinue(outputId);\n",
              "}\n",
              "\n",
              "// This is roughly an async generator (not supported in the browser yet),\n",
              "// where there are multiple asynchronous steps and the Python side is going\n",
              "// to poll for completion of each step.\n",
              "// This uses a Promise to block the python side on completion of each step,\n",
              "// then passes the result of the previous step as the input to the next step.\n",
              "function _uploadFilesContinue(outputId) {\n",
              "  const outputElement = document.getElementById(outputId);\n",
              "  const steps = outputElement.steps;\n",
              "\n",
              "  const next = steps.next(outputElement.lastPromiseValue);\n",
              "  return Promise.resolve(next.value.promise).then((value) => {\n",
              "    // Cache the last promise value to make it available to the next\n",
              "    // step of the generator.\n",
              "    outputElement.lastPromiseValue = value;\n",
              "    return next.value.response;\n",
              "  });\n",
              "}\n",
              "\n",
              "/**\n",
              " * Generator function which is called between each async step of the upload\n",
              " * process.\n",
              " * @param {string} inputId Element ID of the input file picker element.\n",
              " * @param {string} outputId Element ID of the output display.\n",
              " * @return {!Iterable<!Object>} Iterable of next steps.\n",
              " */\n",
              "function* uploadFilesStep(inputId, outputId) {\n",
              "  const inputElement = document.getElementById(inputId);\n",
              "  inputElement.disabled = false;\n",
              "\n",
              "  const outputElement = document.getElementById(outputId);\n",
              "  outputElement.innerHTML = '';\n",
              "\n",
              "  const pickedPromise = new Promise((resolve) => {\n",
              "    inputElement.addEventListener('change', (e) => {\n",
              "      resolve(e.target.files);\n",
              "    });\n",
              "  });\n",
              "\n",
              "  const cancel = document.createElement('button');\n",
              "  inputElement.parentElement.appendChild(cancel);\n",
              "  cancel.textContent = 'Cancel upload';\n",
              "  const cancelPromise = new Promise((resolve) => {\n",
              "    cancel.onclick = () => {\n",
              "      resolve(null);\n",
              "    };\n",
              "  });\n",
              "\n",
              "  // Wait for the user to pick the files.\n",
              "  const files = yield {\n",
              "    promise: Promise.race([pickedPromise, cancelPromise]),\n",
              "    response: {\n",
              "      action: 'starting',\n",
              "    }\n",
              "  };\n",
              "\n",
              "  cancel.remove();\n",
              "\n",
              "  // Disable the input element since further picks are not allowed.\n",
              "  inputElement.disabled = true;\n",
              "\n",
              "  if (!files) {\n",
              "    return {\n",
              "      response: {\n",
              "        action: 'complete',\n",
              "      }\n",
              "    };\n",
              "  }\n",
              "\n",
              "  for (const file of files) {\n",
              "    const li = document.createElement('li');\n",
              "    li.append(span(file.name, {fontWeight: 'bold'}));\n",
              "    li.append(span(\n",
              "        `(${file.type || 'n/a'}) - ${file.size} bytes, ` +\n",
              "        `last modified: ${\n",
              "            file.lastModifiedDate ? file.lastModifiedDate.toLocaleDateString() :\n",
              "                                    'n/a'} - `));\n",
              "    const percent = span('0% done');\n",
              "    li.appendChild(percent);\n",
              "\n",
              "    outputElement.appendChild(li);\n",
              "\n",
              "    const fileDataPromise = new Promise((resolve) => {\n",
              "      const reader = new FileReader();\n",
              "      reader.onload = (e) => {\n",
              "        resolve(e.target.result);\n",
              "      };\n",
              "      reader.readAsArrayBuffer(file);\n",
              "    });\n",
              "    // Wait for the data to be ready.\n",
              "    let fileData = yield {\n",
              "      promise: fileDataPromise,\n",
              "      response: {\n",
              "        action: 'continue',\n",
              "      }\n",
              "    };\n",
              "\n",
              "    // Use a chunked sending to avoid message size limits. See b/62115660.\n",
              "    let position = 0;\n",
              "    do {\n",
              "      const length = Math.min(fileData.byteLength - position, MAX_PAYLOAD_SIZE);\n",
              "      const chunk = new Uint8Array(fileData, position, length);\n",
              "      position += length;\n",
              "\n",
              "      const base64 = btoa(String.fromCharCode.apply(null, chunk));\n",
              "      yield {\n",
              "        response: {\n",
              "          action: 'append',\n",
              "          file: file.name,\n",
              "          data: base64,\n",
              "        },\n",
              "      };\n",
              "\n",
              "      let percentDone = fileData.byteLength === 0 ?\n",
              "          100 :\n",
              "          Math.round((position / fileData.byteLength) * 100);\n",
              "      percent.textContent = `${percentDone}% done`;\n",
              "\n",
              "    } while (position < fileData.byteLength);\n",
              "  }\n",
              "\n",
              "  // All done.\n",
              "  yield {\n",
              "    response: {\n",
              "      action: 'complete',\n",
              "    }\n",
              "  };\n",
              "}\n",
              "\n",
              "scope.google = scope.google || {};\n",
              "scope.google.colab = scope.google.colab || {};\n",
              "scope.google.colab._files = {\n",
              "  _uploadFiles,\n",
              "  _uploadFilesContinue,\n",
              "};\n",
              "})(self);\n",
              "</script> "
            ]
          },
          "metadata": {}
        },
        {
          "output_type": "stream",
          "name": "stdout",
          "text": [
            "Saving debts.csv to debts.csv\n"
          ]
        },
        {
          "output_type": "execute_result",
          "data": {
            "text/plain": [
              "{'debts.csv': b'Name,Assets,Debts\\r\\nAlice,1000,\"Bob:400,Che:300\"\\r\\nBob,2000,\"Che:500,Dominique:600\"\\r\\nChe,4000,Eiji:1000\\r\\nDominique,3000,\"Alice:300,Che:500,Eiji:600\"\\r\\nEiji,5000,\"Alice:600,Bob:1200\"\\r\\n'}"
            ]
          },
          "metadata": {},
          "execution_count": 1
        }
      ],
      "source": [
        "# Google colab only\n",
        "from google.colab import files\n",
        "files.upload() # upload debts.csv"
      ]
    },
    {
      "cell_type": "code",
      "execution_count": 6,
      "metadata": {
        "colab": {
          "base_uri": "https://localhost:8080/",
          "height": 238
        },
        "id": "-s1N9Qt5_7zR",
        "outputId": "9028687c-0ff9-4e2a-f193-856cf8144d67"
      },
      "outputs": [
        {
          "output_type": "execute_result",
          "data": {
            "text/plain": [
              "           Assets                       Debts\n",
              "Name                                         \n",
              "Alice        1000             Bob:400,Che:300\n",
              "Bob          2000       Che:500,Dominique:600\n",
              "Che          4000                   Eiji:1000\n",
              "Dominique    3000  Alice:300,Che:500,Eiji:600\n",
              "Eiji         5000          Alice:600,Bob:1200"
            ],
            "text/html": [
              "\n",
              "  <div id=\"df-c1757136-5b2d-48bb-a74d-914fc0ba7efb\">\n",
              "    <div class=\"colab-df-container\">\n",
              "      <div>\n",
              "<style scoped>\n",
              "    .dataframe tbody tr th:only-of-type {\n",
              "        vertical-align: middle;\n",
              "    }\n",
              "\n",
              "    .dataframe tbody tr th {\n",
              "        vertical-align: top;\n",
              "    }\n",
              "\n",
              "    .dataframe thead th {\n",
              "        text-align: right;\n",
              "    }\n",
              "</style>\n",
              "<table border=\"1\" class=\"dataframe\">\n",
              "  <thead>\n",
              "    <tr style=\"text-align: right;\">\n",
              "      <th></th>\n",
              "      <th>Assets</th>\n",
              "      <th>Debts</th>\n",
              "    </tr>\n",
              "    <tr>\n",
              "      <th>Name</th>\n",
              "      <th></th>\n",
              "      <th></th>\n",
              "    </tr>\n",
              "  </thead>\n",
              "  <tbody>\n",
              "    <tr>\n",
              "      <th>Alice</th>\n",
              "      <td>1000</td>\n",
              "      <td>Bob:400,Che:300</td>\n",
              "    </tr>\n",
              "    <tr>\n",
              "      <th>Bob</th>\n",
              "      <td>2000</td>\n",
              "      <td>Che:500,Dominique:600</td>\n",
              "    </tr>\n",
              "    <tr>\n",
              "      <th>Che</th>\n",
              "      <td>4000</td>\n",
              "      <td>Eiji:1000</td>\n",
              "    </tr>\n",
              "    <tr>\n",
              "      <th>Dominique</th>\n",
              "      <td>3000</td>\n",
              "      <td>Alice:300,Che:500,Eiji:600</td>\n",
              "    </tr>\n",
              "    <tr>\n",
              "      <th>Eiji</th>\n",
              "      <td>5000</td>\n",
              "      <td>Alice:600,Bob:1200</td>\n",
              "    </tr>\n",
              "  </tbody>\n",
              "</table>\n",
              "</div>\n",
              "      <button class=\"colab-df-convert\" onclick=\"convertToInteractive('df-c1757136-5b2d-48bb-a74d-914fc0ba7efb')\"\n",
              "              title=\"Convert this dataframe to an interactive table.\"\n",
              "              style=\"display:none;\">\n",
              "        \n",
              "  <svg xmlns=\"http://www.w3.org/2000/svg\" height=\"24px\"viewBox=\"0 0 24 24\"\n",
              "       width=\"24px\">\n",
              "    <path d=\"M0 0h24v24H0V0z\" fill=\"none\"/>\n",
              "    <path d=\"M18.56 5.44l.94 2.06.94-2.06 2.06-.94-2.06-.94-.94-2.06-.94 2.06-2.06.94zm-11 1L8.5 8.5l.94-2.06 2.06-.94-2.06-.94L8.5 2.5l-.94 2.06-2.06.94zm10 10l.94 2.06.94-2.06 2.06-.94-2.06-.94-.94-2.06-.94 2.06-2.06.94z\"/><path d=\"M17.41 7.96l-1.37-1.37c-.4-.4-.92-.59-1.43-.59-.52 0-1.04.2-1.43.59L10.3 9.45l-7.72 7.72c-.78.78-.78 2.05 0 2.83L4 21.41c.39.39.9.59 1.41.59.51 0 1.02-.2 1.41-.59l7.78-7.78 2.81-2.81c.8-.78.8-2.07 0-2.86zM5.41 20L4 18.59l7.72-7.72 1.47 1.35L5.41 20z\"/>\n",
              "  </svg>\n",
              "      </button>\n",
              "      \n",
              "  <style>\n",
              "    .colab-df-container {\n",
              "      display:flex;\n",
              "      flex-wrap:wrap;\n",
              "      gap: 12px;\n",
              "    }\n",
              "\n",
              "    .colab-df-convert {\n",
              "      background-color: #E8F0FE;\n",
              "      border: none;\n",
              "      border-radius: 50%;\n",
              "      cursor: pointer;\n",
              "      display: none;\n",
              "      fill: #1967D2;\n",
              "      height: 32px;\n",
              "      padding: 0 0 0 0;\n",
              "      width: 32px;\n",
              "    }\n",
              "\n",
              "    .colab-df-convert:hover {\n",
              "      background-color: #E2EBFA;\n",
              "      box-shadow: 0px 1px 2px rgba(60, 64, 67, 0.3), 0px 1px 3px 1px rgba(60, 64, 67, 0.15);\n",
              "      fill: #174EA6;\n",
              "    }\n",
              "\n",
              "    [theme=dark] .colab-df-convert {\n",
              "      background-color: #3B4455;\n",
              "      fill: #D2E3FC;\n",
              "    }\n",
              "\n",
              "    [theme=dark] .colab-df-convert:hover {\n",
              "      background-color: #434B5C;\n",
              "      box-shadow: 0px 1px 3px 1px rgba(0, 0, 0, 0.15);\n",
              "      filter: drop-shadow(0px 1px 2px rgba(0, 0, 0, 0.3));\n",
              "      fill: #FFFFFF;\n",
              "    }\n",
              "  </style>\n",
              "\n",
              "      <script>\n",
              "        const buttonEl =\n",
              "          document.querySelector('#df-c1757136-5b2d-48bb-a74d-914fc0ba7efb button.colab-df-convert');\n",
              "        buttonEl.style.display =\n",
              "          google.colab.kernel.accessAllowed ? 'block' : 'none';\n",
              "\n",
              "        async function convertToInteractive(key) {\n",
              "          const element = document.querySelector('#df-c1757136-5b2d-48bb-a74d-914fc0ba7efb');\n",
              "          const dataTable =\n",
              "            await google.colab.kernel.invokeFunction('convertToInteractive',\n",
              "                                                     [key], {});\n",
              "          if (!dataTable) return;\n",
              "\n",
              "          const docLinkHtml = 'Like what you see? Visit the ' +\n",
              "            '<a target=\"_blank\" href=https://colab.research.google.com/notebooks/data_table.ipynb>data table notebook</a>'\n",
              "            + ' to learn more about interactive tables.';\n",
              "          element.innerHTML = '';\n",
              "          dataTable['output_type'] = 'display_data';\n",
              "          await google.colab.output.renderOutput(dataTable, element);\n",
              "          const docLink = document.createElement('div');\n",
              "          docLink.innerHTML = docLinkHtml;\n",
              "          element.appendChild(docLink);\n",
              "        }\n",
              "      </script>\n",
              "    </div>\n",
              "  </div>\n",
              "  "
            ]
          },
          "metadata": {},
          "execution_count": 6
        }
      ],
      "source": [
        "import pandas as pd\n",
        "\n",
        "df = pd.read_csv('debts.csv', index_col = \"Name\")\n",
        "df.head()"
      ]
    },
    {
      "cell_type": "code",
      "execution_count": 15,
      "metadata": {
        "id": "q7IVPDw8_7zR"
      },
      "outputs": [],
      "source": [
        "def total_debt(player_name,df):\n",
        "  debt_value = 0\n",
        "  debt_numbers = df.loc[player_name,'Debts']\n",
        "  debt_split = debt_numbers.split(',')\n",
        "  for values in debt_split:\n",
        "    amount = values.split(':')\n",
        "    debt_value += int(amount[1])\n",
        "  return debt_value\n",
        "\n",
        "def total_owed(player_name,df):\n",
        "  owed_value = 0\n",
        "  owed_numbers = df['Debts']\n",
        "  for owedvalue in owed_numbers:\n",
        "    owed = owedvalue.split(',')\n",
        "    for values in owed:\n",
        "      amount = values.split(':')\n",
        "      if amount[0] == player_name:\n",
        "        owed_value += int(amount[1])\n",
        "  return owed_value\n",
        "\n",
        "def net_worth(player,df):\n",
        "  assets = df.loc[player,'Assets'] + total_owed(player,df) - total_debt(player,df)\n",
        "  return assets\n",
        "# TODO net_worth, total_debt, total_owed"
      ]
    },
    {
      "cell_type": "code",
      "execution_count": 16,
      "metadata": {
        "colab": {
          "base_uri": "https://localhost:8080/"
        },
        "id": "t_dFJLDw_7zR",
        "outputId": "5e3b6472-8105-4dee-e815-623a965868cb"
      },
      "outputs": [
        {
          "output_type": "stream",
          "name": "stdout",
          "text": [
            "1400\n",
            "1300\n",
            "1200\n",
            "2500\n",
            "4300\n",
            "2200\n",
            "4800\n"
          ]
        }
      ],
      "source": [
        "print(total_debt('Dominique', df)) # Should be 1400\n",
        "print(total_owed('Che', df)) # Should be 1300\n",
        "print(net_worth('Alice', df)) # Should be 1200\n",
        "print(net_worth('Bob', df)) # Should be 2500\n",
        "print(net_worth('Che', df)) # Should be 4300\n",
        "print(net_worth('Dominique', df)) # Should be 2200\n",
        "print(net_worth('Eiji', df)) # Should be 4800"
      ]
    },
    {
      "cell_type": "code",
      "source": [],
      "metadata": {
        "id": "q-BSs7GbqbRW"
      },
      "execution_count": null,
      "outputs": []
    }
  ],
  "metadata": {
    "colab": {
      "provenance": []
    },
    "kernelspec": {
      "display_name": "Python 3",
      "language": "python",
      "name": "python3"
    },
    "language_info": {
      "codemirror_mode": {
        "name": "ipython",
        "version": 3
      },
      "file_extension": ".py",
      "mimetype": "text/x-python",
      "name": "python",
      "nbconvert_exporter": "python",
      "pygments_lexer": "ipython3",
      "version": "3.8.8"
    }
  },
  "nbformat": 4,
  "nbformat_minor": 0
}