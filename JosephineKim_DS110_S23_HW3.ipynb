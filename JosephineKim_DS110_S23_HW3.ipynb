{
  "cells": [
    {
      "cell_type": "markdown",
      "metadata": {
        "id": "EldL0furZti2"
      },
      "source": [
        "# Problem 1:  Basic functions (36 pts:  7,7,7,7,8)"
      ]
    },
    {
      "cell_type": "markdown",
      "metadata": {
        "id": "OxHU9jKmcTBL"
      },
      "source": [
        "For each of the following subproblems, you also need to write tests.  In square brackets, the inputs of the tests will be described.  Print the output of the function on the given inputs and check that the output matches your expectations."
      ]
    },
    {
      "cell_type": "markdown",
      "metadata": {
        "id": "1Neg10E1e7fL"
      },
      "source": [
        "a, 7 pts) count_found() takes two items *a* and *b* and one list *l* as input, and returns 2 if both items *a* and *b* are in list *l*, 1 if just one of them is in list *l*, and 0 otherwise.  [4 tests:  both in the list, a in the list but not b, b in the list but not a, neither in the list.]"
      ]
    },
    {
      "cell_type": "code",
      "source": [
        "def count_found(a,b,l):\n",
        "  if a in l and b in l:\n",
        "    return 2\n",
        "  elif a in l or b in l:\n",
        "    return 1\n",
        "  else:\n",
        "    return 0\n",
        "print(count_found(1,2,[1,2,3,4]))\n",
        "print(count_found(1,2,[1,3,4,5]))\n",
        "print(count_found(1,2,[2,3,4,5]))\n",
        "print(count_found(1,2,[3,4,5,6]))"
      ],
      "metadata": {
        "colab": {
          "base_uri": "https://localhost:8080/"
        },
        "id": "2Q3XSV3gNkTZ",
        "outputId": "cf0d9702-cccc-451d-fc44-c0e8425edb86"
      },
      "execution_count": null,
      "outputs": [
        {
          "output_type": "stream",
          "name": "stdout",
          "text": [
            "2\n",
            "1\n",
            "1\n",
            "0\n"
          ]
        }
      ]
    },
    {
      "cell_type": "markdown",
      "metadata": {
        "id": "ds-ep0aFbjJj"
      },
      "source": [
        "b, 7 pts) Write a function total_price() that takes a list of prices and a list of quantities, and returns the sum of $price_i * quantity_i$ over all i.  You can assume the lists have the same length.  [2 tests:  [5,10,15],[1,2,3] should return 70; [],[] should return 0.]"
      ]
    },
    {
      "cell_type": "code",
      "source": [
        "import numpy as np\n",
        "def total_price(price, quantity):\n",
        "  return sum(np.array(price)*(np.array(quantity)))\n",
        "print(total_price([5,10,15],[1,2,3]))\n",
        "print(total_price([],[]))"
      ],
      "metadata": {
        "colab": {
          "base_uri": "https://localhost:8080/"
        },
        "id": "T637KUzfTBAq",
        "outputId": "942591cb-7a86-408e-92dd-1e879ae48c2a"
      },
      "execution_count": null,
      "outputs": [
        {
          "output_type": "stream",
          "name": "stdout",
          "text": [
            "70\n",
            "0\n"
          ]
        }
      ]
    },
    {
      "cell_type": "markdown",
      "metadata": {
        "id": "7jt_UQTRkfaK"
      },
      "source": [
        "c, 7 pts) Write a function smaller_array() that takes two 2D arrays A and B as inputs, and returns True if and only if A has fewer elements than B. [2 tests:  A = [[1,2],[3,4]] and B=[[1,2,3],[4,5,6]] should return True; A=[[1,2,3],[4,5,6]] and B=[[1,2],[3,4],[5,6]] should return False since they're equal in size.]"
      ]
    },
    {
      "cell_type": "code",
      "execution_count": null,
      "metadata": {
        "id": "MwIn18fal1SH",
        "colab": {
          "base_uri": "https://localhost:8080/"
        },
        "outputId": "a2207bc4-9cf7-4843-c23a-ac687db00d35"
      },
      "outputs": [
        {
          "output_type": "stream",
          "name": "stdout",
          "text": [
            "True\n",
            "False\n"
          ]
        }
      ],
      "source": [
        "def smaller_array(A,B):\n",
        "  if A < B:\n",
        "    return True\n",
        "  else: \n",
        "    return False\n",
        "print(smaller_array([[1,2],[3,4]],[[1,2,3],[4,5,6]]))\n",
        "print(smaller_array([[1,2,3],[4,5,6]],[[1,2],[3,4],[5,6]]))\n",
        "# TODO smaller_array() and tests"
      ]
    },
    {
      "cell_type": "markdown",
      "metadata": {
        "id": "cNCAXx9ZFR54"
      },
      "source": [
        "d, 7 pts) Write a function maybe_sum() that takes a string and a list as its two arguments. If the string argument is the all lowercase string 'add', return the sum of the list (which you can assume contains all integers).  If the string argument is the lowercase string 'multiply', return the product of the elements of the list (you can find a function to do this online).  If the string is neither of those strings, return 0. [3 tests:  'ignore', [1,2,3,4] should return 0; 'add', [1,2,3,4] should return 10; 'multiply', [1,2,3,4] should return 24.] "
      ]
    },
    {
      "cell_type": "code",
      "source": [
        "import numpy as np\n",
        "def maybe_sum(str,list):\n",
        "  if str == 'add':\n",
        "    return (sum(list))\n",
        "  elif str == 'multiply':\n",
        "    return (np.prod(list))\n",
        "  elif str == 'ignore': \n",
        "    return ('0')\n",
        "print(maybe_sum('add',[1,2,3,4]))\n",
        "print(maybe_sum('multiply', [1,2,3,4]))\n",
        "print(maybe_sum('ignore',[1,2,3,4]))"
      ],
      "metadata": {
        "colab": {
          "base_uri": "https://localhost:8080/"
        },
        "id": "wVDw61qsfvo2",
        "outputId": "7c2579da-f4c3-4ffb-b1f3-7ed13bb98839"
      },
      "execution_count": null,
      "outputs": [
        {
          "output_type": "stream",
          "name": "stdout",
          "text": [
            "10\n",
            "24\n",
            "0\n"
          ]
        }
      ]
    },
    {
      "cell_type": "markdown",
      "metadata": {
        "id": "79VROSvDm50r"
      },
      "source": [
        "e, 8 pts) Write a function find_all() that takes an input list *to_find* and list of numbers *lst*.  The first return value should be the count of items in *lst* that match any items in *to_find*.  The second return value should be True if and only if all values in *to_find* are in *lst*.  [2 tests:  [2,3],[2,3,2] returns (3, True); [2,3,5], [5,5,3,7] returns (3,False).]  (Hint:  You may find it easiest to iterate over *lst* to find the count but iterate over *to_find* to decide whether every item is in *lst*.)"
      ]
    },
    {
      "cell_type": "code",
      "execution_count": null,
      "metadata": {
        "id": "JjoDsaExeSbv",
        "colab": {
          "base_uri": "https://localhost:8080/"
        },
        "outputId": "f27508ab-ef6d-431c-fff6-fd9419078eb1"
      },
      "outputs": [
        {
          "output_type": "stream",
          "name": "stdout",
          "text": [
            "(3, True)\n",
            "(3, False)\n"
          ]
        }
      ],
      "source": [
        "def find_all(to_find,lst):\n",
        "  count = 0\n",
        "  match = True\n",
        "  for i in lst:\n",
        "    if i in to_find:\n",
        "      count += 1\n",
        "  for j in to_find:\n",
        "    if j not in lst:\n",
        "      match = False\n",
        "  return(count,match) \n",
        "print(find_all([2,3],[2,3,2]))\n",
        "print(find_all([2,3,5],[5,5,3,7]))\n",
        "# TODO find_all() and tests"
      ]
    },
    {
      "cell_type": "markdown",
      "metadata": {
        "id": "iL6Y4ozuhl6V"
      },
      "source": [
        "# Problem 2:  Sets and Dictionaries (24 pts:  6,8,10)\n",
        "\n",
        "a, 6 pts) Write a function total_value() that takes a list and a dictionary as arguments, and returns the total value of all the items in the list given their values in the dictionary.  If an item isn't in the dictionary, it is worth 1. For example, if ['Copper','Gold','Smithy'] was passed along with a dictionary that gave values of 1 for Copper and 3 for Gold, with Smithy not in the dictionary, then the function would return 5."
      ]
    },
    {
      "cell_type": "code",
      "execution_count": null,
      "metadata": {
        "id": "8vz4WyCVhl6W"
      },
      "outputs": [],
      "source": [
        "def total_value(lst,dictionary):\n",
        "  value = 0\n",
        "  for coins in lst:\n",
        "    if coins not in dictionary:\n",
        "      value += 1\n",
        "    else:\n",
        "      value += dictionary[coins]\n",
        "  return(value)\n",
        "# TODO total_value()"
      ]
    },
    {
      "cell_type": "code",
      "execution_count": null,
      "metadata": {
        "id": "PpgVNcHHhl6W",
        "colab": {
          "base_uri": "https://localhost:8080/"
        },
        "outputId": "74857d18-2177-445a-8256-4b1291f44b02"
      },
      "outputs": [
        {
          "output_type": "execute_result",
          "data": {
            "text/plain": [
              "5"
            ]
          },
          "metadata": {},
          "execution_count": 53
        }
      ],
      "source": [
        "coins = {'Copper':1,'Silver':2,'Gold': 3}\n",
        "total_value(['Copper','Gold','Smithy'], coins) # expect 5"
      ]
    },
    {
      "cell_type": "markdown",
      "metadata": {
        "id": "ytceHekqhl6X"
      },
      "source": [
        "b, 8pts) Write a function tuples_to_dict() that, given a list of (string, number) tuples, returns a dictionary where the keys are the strings from the list and their values are the numbers that were associated with those strings. If a key appears twice or more in the list, then the dictionary value should be the max of the number values. For example, tuples_to_dict([('words', 5),('and',4),('words',3),('and',2]) would produce the dictionary {'and': 4, 'words': 5}. You don't need to clean or transform the strings in any way (for example, by making them all lowercase).  The order that the keys are listed in for the output doesn't matter.\n"
      ]
    },
    {
      "cell_type": "code",
      "execution_count": null,
      "metadata": {
        "id": "yCViFlKThl6Y"
      },
      "outputs": [],
      "source": [
        "def tuples_to_dict(list_of):\n",
        "  dictionary = {}\n",
        "  for tup in list_of:\n",
        "    if tup[0] in dictionary:\n",
        "      if tup[1] > dictionary[tup[0]]:\n",
        "        dictionary[tup[0]] = tup[1]\n",
        "    else:\n",
        "      dictionary[tup[0]] = tup[1]\n",
        "  return(dictionary)\n",
        "# TODO tuples_to_dict()"
      ]
    },
    {
      "cell_type": "code",
      "execution_count": null,
      "metadata": {
        "id": "HN-NF8ehhl6Y",
        "colab": {
          "base_uri": "https://localhost:8080/"
        },
        "outputId": "d2ded0e9-ff76-4cdc-f296-264b61123fea"
      },
      "outputs": [
        {
          "output_type": "execute_result",
          "data": {
            "text/plain": [
              "{'words': 5, 'and': 4}"
            ]
          },
          "metadata": {},
          "execution_count": 55
        }
      ],
      "source": [
        "tuples_to_dict([('words',5),('and',4),('words', 3),('and',2)])"
      ]
    },
    {
      "cell_type": "markdown",
      "metadata": {
        "id": "gjePLW_dhl6Y"
      },
      "source": [
        "c, 10pts) Write a function min_counts() that takes two dictionaries as arguments and returns a single dictionary where the value for each key is the min of the two dictionary values.  If a key is just in one dictionary, it should be entered in the new dictionary with a value of 0.  Thus min_counts({'words': 2, 'and':1},{'words':1,'and':1,'more':1}), would result in the dictionary {'and':1,'more':0,'words':1}.  The order of the keys in your printed dictionary doesn't matter."
      ]
    },
    {
      "cell_type": "code",
      "source": [
        "def min_counts(dict_1,dict_2):\n",
        "  val = {}\n",
        "  if len(dict_1)>len(dict_2):\n",
        "    for key in dict_1: \n",
        "      if key not in dict_2:\n",
        "        val[key]=0\n",
        "      else:\n",
        "        if dict_1[key]<dict_2[key]:\n",
        "          val[key]=dict_1[key]\n",
        "        else:\n",
        "          val[key]=dict_2[key]\n",
        "  else:\n",
        "    for key in dict_2:\n",
        "      if key not in dict_1:\n",
        "        val[key]=0\n",
        "      else:\n",
        "        if dict_1[key]<dict_2[key]:\n",
        "          val[key]=dict_1[key]\n",
        "        else:\n",
        "          val[key]=dict_2[key]\n",
        "    return val"
      ],
      "metadata": {
        "id": "1C0xYOD1hqTf"
      },
      "execution_count": 13,
      "outputs": []
    },
    {
      "cell_type": "code",
      "execution_count": 14,
      "metadata": {
        "id": "2arnjlyrhl6Z",
        "colab": {
          "base_uri": "https://localhost:8080/"
        },
        "outputId": "1b070680-6175-4cef-cd4a-5935f9080e82"
      },
      "outputs": [
        {
          "output_type": "execute_result",
          "data": {
            "text/plain": [
              "{'words': 1, 'and': 1, 'more': 0}"
            ]
          },
          "metadata": {},
          "execution_count": 14
        }
      ],
      "source": [
        "min_counts({'words': 2, 'and':1},{'words':1,'and':1,'more':1})"
      ]
    }
  ],
  "metadata": {
    "colab": {
      "provenance": []
    },
    "kernelspec": {
      "display_name": "Python 3",
      "language": "python",
      "name": "python3"
    },
    "language_info": {
      "codemirror_mode": {
        "name": "ipython",
        "version": 3
      },
      "file_extension": ".py",
      "mimetype": "text/x-python",
      "name": "python",
      "nbconvert_exporter": "python",
      "pygments_lexer": "ipython3",
      "version": "3.8.8"
    }
  },
  "nbformat": 4,
  "nbformat_minor": 0
}