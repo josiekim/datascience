{
  "cells": [
    {
      "cell_type": "markdown",
      "metadata": {
        "id": "A7mpivJPWaNa"
      },
      "source": [
        "# Problem 1:  Ebi Sushi (28 pts: 6,10,12)\n",
        "\n",
        "My wife and I went to a sushi place called Ebi Sushi recently.  Here are the items that were on the receipt."
      ]
    },
    {
      "cell_type": "code",
      "execution_count": 1,
      "metadata": {
        "id": "cVAqqK8OWW4O"
      },
      "outputs": [],
      "source": [
        "ebi_receipt = [('Edamame', 6), ('Chirashi', 18.99), ('Inari', 3.60), ('Veggie House Roll', 11), ('Broccoli Roll', 7)]"
      ]
    },
    {
      "cell_type": "markdown",
      "metadata": {
        "id": "786zDEMfYYAG"
      },
      "source": [
        "a) (8 pts) Write code below that iterates through the receipt to find the most expensive item, then prints that item."
      ]
    },
    {
      "cell_type": "code",
      "execution_count": 2,
      "metadata": {
        "colab": {
          "base_uri": "https://localhost:8080/"
        },
        "id": "YkPnDwkeYn0S",
        "outputId": "6f643c09-fb82-4dbf-e35b-11459de7e4a4"
      },
      "outputs": [
        {
          "output_type": "stream",
          "name": "stdout",
          "text": [
            "[('Chirashi', 18.99)]\n"
          ]
        }
      ],
      "source": [
        "most_expensive_item = []\n",
        "for sushi, price in ebi_receipt:\n",
        "  if price > 18:\n",
        "    most_expensive_item.append((sushi,price))\n",
        "print(most_expensive_item)"
      ]
    },
    {
      "cell_type": "markdown",
      "metadata": {
        "id": "anOn3kVwm2nY"
      },
      "source": [
        "b) (10 pts) When we went to Ebi Sushi, the bottom of our receipt mentioned different possible total amounts for different tip percentages, which is a nice touch.  Write code that uses a iterates through a list of tip percentages *tips* and prints the total amount of *base*+tip for each tip amount.\n",
        "\n",
        "For example, if *base* was 200 and *tips* were [15, 18, 20], then the output would be\n",
        "\n",
        "15%: 230.0\n",
        "\n",
        "18%: 236.0\n",
        "\n",
        "20%: 240.0\n",
        "\n",
        "Use round(value, 2) to round to two places after the decimal (pennies) in each case.\n",
        "\n"
      ]
    },
    {
      "cell_type": "code",
      "source": [
        "tips = [15, 18, 20]\n",
        "base = 200\n",
        "for tip in tips:\n",
        "    total_amount = round(((tip/100)*base)+base,2)\n",
        "    print(str(tip) + '%: ' + str(total_amount))"
      ],
      "metadata": {
        "colab": {
          "base_uri": "https://localhost:8080/"
        },
        "id": "0t2qxWIr7t00",
        "outputId": "d2abfad4-72a1-4e56-e88f-18cf4d043ed7"
      },
      "execution_count": 34,
      "outputs": [
        {
          "output_type": "stream",
          "name": "stdout",
          "text": [
            "15%: 230.0\n",
            "18%: 236.0\n",
            "20%: 240.0\n"
          ]
        }
      ]
    },
    {
      "cell_type": "markdown",
      "metadata": {
        "id": "6K6_NhKdZQMc"
      },
      "source": [
        "c) (10 pts) The following list notes whether Sandra ('S') or Kevin ('K') ordered each item.  Write code that iterates through the list *who_ordered* of (item, amount, who_purchased) and prints a tuple with (amount Sandra ordered, amount Kevin ordered).  For example, if *who_ordered* were set to list *who_ordered2* below, the output would be (5, 5).\n",
        "\n",
        "You'll want to maintain two variables as you iterate through the list, and use a conditional (if/else) to decide which total to add to.  You can assume all the orderer codes are \"S\" or \"K\".\n",
        "\n"
      ]
    },
    {
      "cell_type": "code",
      "execution_count": 3,
      "metadata": {
        "id": "yWDi25leCLKO",
        "colab": {
          "base_uri": "https://localhost:8080/"
        },
        "outputId": "d42d0396-72fa-4cf2-b5a6-259b7fe983ad"
      },
      "outputs": [
        {
          "output_type": "stream",
          "name": "stdout",
          "text": [
            "27.6 S , 7 K\n"
          ]
        }
      ],
      "source": [
        "who_ordered = [('Edamame', 6, 'S'), ('Chirashi', 18.99, 'K'), ('Inari', 3.60, 'S'), ('Veggie House Roll', 11, 'S'), ('Broccoli Roll', 7, 'S')]\n",
        "who_ordered2 = [(\"thing1\", 5, \"K\"),(\"thing2\",5,\"S\")]\n",
        "sandra = 'S'\n",
        "kevin = 'K'\n",
        "S_sum = 0\n",
        "K_sum = 0\n",
        "for item, amount, who_purchased in who_ordered:\n",
        "  if who_purchased == 'S':\n",
        "    S_sum += amount\n",
        "else:\n",
        "  K_sum += amount\n",
        "print(S_sum,'S',',',K_sum,'K')"
      ]
    },
    {
      "cell_type": "markdown",
      "metadata": {
        "id": "tzE9xO_Xbg_I"
      },
      "source": [
        "# Problem 2:  Graphing (22 pts: 6, 10, 6)\n",
        "\n",
        "\n",
        "\n",
        "\n"
      ]
    },
    {
      "cell_type": "markdown",
      "metadata": {
        "id": "5DzYB28N6NHp"
      },
      "source": [
        "a, 6 pts) Over the course of 7 days, the average gas price across Massachusetts fluctuates; these prices are given in the *gas_prices* variable.  Plot the prices with a line graph in matplotlib.  (The x axis, day, ranges from 1 to 7.)"
      ]
    },
    {
      "cell_type": "code",
      "execution_count": 28,
      "metadata": {
        "id": "ZIgeAavB6yTt",
        "colab": {
          "base_uri": "https://localhost:8080/",
          "height": 283
        },
        "outputId": "1dfcbd15-c1f8-49fe-b33a-8644b461457b"
      },
      "outputs": [
        {
          "output_type": "execute_result",
          "data": {
            "text/plain": [
              "[<matplotlib.lines.Line2D at 0x7f9c35818fd0>]"
            ]
          },
          "metadata": {},
          "execution_count": 28
        },
        {
          "output_type": "display_data",
          "data": {
            "text/plain": [
              "<Figure size 432x288 with 1 Axes>"
            ],
            "image/png": "[encoded data removed]"
          },
          "metadata": {
            "needs_background": "light"
          }
        }
      ],
      "source": [
        "gas_prices = [4.80, 5.05, 4.90, 5.10, 5.20, 5.15, 5.30]\n",
        "import matplotlib.pyplot as plt\n",
        "days=list(range(1,8))\n",
        "plt.plot(days,gas_prices)\n",
        "plt.plot(days,gas_prices,'o')\n",
        "\n",
        "# TODO"
      ]
    },
    {
      "cell_type": "markdown",
      "metadata": {
        "id": "7JcOaozq8Bek"
      },
      "source": [
        "b, 10pts) Plot the same graph again but with additional trendline in red of y = x/12 + 4.75, plotted as a line graph on top of the original points, which should now be a scatter plot.  (Hint:  You just need two points on the line to plot the line.)"
      ]
    },
    {
      "cell_type": "code",
      "execution_count": 30,
      "metadata": {
        "id": "No84bXQd7POi",
        "colab": {
          "base_uri": "https://localhost:8080/",
          "height": 287
        },
        "outputId": "a230dba3-44a5-4aa9-8fd7-e5389251bce5"
      },
      "outputs": [
        {
          "output_type": "execute_result",
          "data": {
            "text/plain": [
              "[<matplotlib.lines.Line2D at 0x7f9c35711dc0>]"
            ]
          },
          "metadata": {},
          "execution_count": 30
        },
        {
          "output_type": "display_data",
          "data": {
            "text/plain": [
              "<Figure size 432x288 with 1 Axes>"
            ],
            "image/png": "[encoded data removed]"
          },
          "metadata": {
            "needs_background": "light"
          }
        }
      ],
      "source": [
        "import numpy as np\n",
        "plt.plot(days,gas_prices,'o')\n",
        "days = list(range(1,8))\n",
        "\n",
        "x_coor = [0,12]\n",
        "y_coor = [4.75,5.75]\n",
        "plt.plot(x_coor,y_coor,'r-')\n",
        "# TODO"
      ]
    },
    {
      "cell_type": "markdown",
      "metadata": {
        "id": "ue5ApzHM__FK"
      },
      "source": [
        "c, 6 pts) On a new graph, plot the function $y = 10x^2$ from 0 to 5.  Use np.linspace() to get at least 100 samples, then plot it as a line graph."
      ]
    },
    {
      "cell_type": "code",
      "execution_count": 27,
      "metadata": {
        "id": "T8e_Is7PAVx6",
        "colab": {
          "base_uri": "https://localhost:8080/",
          "height": 283
        },
        "outputId": "42663ce4-79a5-4d37-901c-d8175a07e0f7"
      },
      "outputs": [
        {
          "output_type": "execute_result",
          "data": {
            "text/plain": [
              "[<matplotlib.lines.Line2D at 0x7f9c35844ac0>]"
            ]
          },
          "metadata": {},
          "execution_count": 27
        },
        {
          "output_type": "display_data",
          "data": {
            "text/plain": [
              "<Figure size 432x288 with 1 Axes>"
            ],
            "image/png": "[encoded data removed]"
          },
          "metadata": {
            "needs_background": "light"
          }
        }
      ],
      "source": [
        "import numpy as np\n",
        "x = np.linspace(1,101)\n",
        "y = 10*(x**2)\n",
        "plt.plot(x,y)"
      ]
    },
    {
      "cell_type": "markdown",
      "metadata": {
        "id": "F1Irs2kvDCT0"
      },
      "source": [
        "# Problem 3:  Matrices (10 points)\n",
        "\n",
        "10pts) Find the **product** AB, where A is a 2x100 matrix with all zeros in the first row and all ones in the second row, and B is a 100x2 matrix of all 1's.  Use np.concatenate, np.zeros, and np.ones to create the matrix A, and np.ones to create matrix B.  (Recall an m x n matrix has *m* rows and *n* columns.)"
      ]
    },
    {
      "cell_type": "code",
      "execution_count": 37,
      "metadata": {
        "id": "-KNGwuiIDq5g",
        "colab": {
          "base_uri": "https://localhost:8080/"
        },
        "outputId": "943c5c79-97ad-4bbf-c006-cd21ac989d61"
      },
      "outputs": [
        {
          "output_type": "stream",
          "name": "stdout",
          "text": [
            "(array([0., 0., 0., 0., 0., 0., 0., 0., 0., 0., 0., 0., 0., 0., 0., 0., 0.,\n",
            "       0., 0., 0., 0., 0., 0., 0., 0., 0., 0., 0., 0., 0., 0., 0., 0., 0.,\n",
            "       0., 0., 0., 0., 0., 0., 0., 0., 0., 0., 0., 0., 0., 0., 0., 0., 0.,\n",
            "       0., 0., 0., 0., 0., 0., 0., 0., 0., 0., 0., 0., 0., 0., 0., 0., 0.,\n",
            "       0., 0., 0., 0., 0., 0., 0., 0., 0., 0., 0., 0., 0., 0., 0., 0., 0.,\n",
            "       0., 0., 0., 0., 0., 0., 0., 0., 0., 0., 0., 0., 0., 0., 0.]), array([[1., 1., 1., 1., 1., 1., 1., 1., 1., 1., 1., 1., 1., 1., 1., 1.,\n",
            "        1., 1., 1., 1., 1., 1., 1., 1., 1., 1., 1., 1., 1., 1., 1., 1.,\n",
            "        1., 1., 1., 1., 1., 1., 1., 1., 1., 1., 1., 1., 1., 1., 1., 1.,\n",
            "        1., 1., 1., 1., 1., 1., 1., 1., 1., 1., 1., 1., 1., 1., 1., 1.,\n",
            "        1., 1., 1., 1., 1., 1., 1., 1., 1., 1., 1., 1., 1., 1., 1., 1.,\n",
            "        1., 1., 1., 1., 1., 1., 1., 1., 1., 1., 1., 1., 1., 1., 1., 1.,\n",
            "        1., 1., 1., 1.]]))\n",
            "[[1. 1.]\n",
            " [1. 1.]\n",
            " [1. 1.]\n",
            " [1. 1.]\n",
            " [1. 1.]\n",
            " [1. 1.]\n",
            " [1. 1.]\n",
            " [1. 1.]\n",
            " [1. 1.]\n",
            " [1. 1.]\n",
            " [1. 1.]\n",
            " [1. 1.]\n",
            " [1. 1.]\n",
            " [1. 1.]\n",
            " [1. 1.]\n",
            " [1. 1.]\n",
            " [1. 1.]\n",
            " [1. 1.]\n",
            " [1. 1.]\n",
            " [1. 1.]\n",
            " [1. 1.]\n",
            " [1. 1.]\n",
            " [1. 1.]\n",
            " [1. 1.]\n",
            " [1. 1.]\n",
            " [1. 1.]\n",
            " [1. 1.]\n",
            " [1. 1.]\n",
            " [1. 1.]\n",
            " [1. 1.]\n",
            " [1. 1.]\n",
            " [1. 1.]\n",
            " [1. 1.]\n",
            " [1. 1.]\n",
            " [1. 1.]\n",
            " [1. 1.]\n",
            " [1. 1.]\n",
            " [1. 1.]\n",
            " [1. 1.]\n",
            " [1. 1.]\n",
            " [1. 1.]\n",
            " [1. 1.]\n",
            " [1. 1.]\n",
            " [1. 1.]\n",
            " [1. 1.]\n",
            " [1. 1.]\n",
            " [1. 1.]\n",
            " [1. 1.]\n",
            " [1. 1.]\n",
            " [1. 1.]\n",
            " [1. 1.]\n",
            " [1. 1.]\n",
            " [1. 1.]\n",
            " [1. 1.]\n",
            " [1. 1.]\n",
            " [1. 1.]\n",
            " [1. 1.]\n",
            " [1. 1.]\n",
            " [1. 1.]\n",
            " [1. 1.]\n",
            " [1. 1.]\n",
            " [1. 1.]\n",
            " [1. 1.]\n",
            " [1. 1.]\n",
            " [1. 1.]\n",
            " [1. 1.]\n",
            " [1. 1.]\n",
            " [1. 1.]\n",
            " [1. 1.]\n",
            " [1. 1.]\n",
            " [1. 1.]\n",
            " [1. 1.]\n",
            " [1. 1.]\n",
            " [1. 1.]\n",
            " [1. 1.]\n",
            " [1. 1.]\n",
            " [1. 1.]\n",
            " [1. 1.]\n",
            " [1. 1.]\n",
            " [1. 1.]\n",
            " [1. 1.]\n",
            " [1. 1.]\n",
            " [1. 1.]\n",
            " [1. 1.]\n",
            " [1. 1.]\n",
            " [1. 1.]\n",
            " [1. 1.]\n",
            " [1. 1.]\n",
            " [1. 1.]\n",
            " [1. 1.]\n",
            " [1. 1.]\n",
            " [1. 1.]\n",
            " [1. 1.]\n",
            " [1. 1.]\n",
            " [1. 1.]\n",
            " [1. 1.]\n",
            " [1. 1.]\n",
            " [1. 1.]\n",
            " [1. 1.]\n",
            " [1. 1.]]\n"
          ]
        }
      ],
      "source": [
        "import numpy as np\n",
        "A = np.concatenate(np.zeros((1,100))),(np.ones((1,100)))\n",
        "B = np.ones((100,2))\n",
        "print(A)\n",
        "print(B)"
      ]
    }
  ],
  "metadata": {
    "colab": {
      "provenance": []
    },
    "kernelspec": {
      "display_name": "Python 3",
      "language": "python",
      "name": "python3"
    },
    "language_info": {
      "codemirror_mode": {
        "name": "ipython",
        "version": 3
      },
      "file_extension": ".py",
      "mimetype": "text/x-python",
      "name": "python",
      "nbconvert_exporter": "python",
      "pygments_lexer": "ipython3",
      "version": "3.8.8"
    }
  },
  "nbformat": 4,
  "nbformat_minor": 0
}