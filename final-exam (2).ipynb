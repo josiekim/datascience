{
 "cells": [
  {
   "cell_type": "code",
   "execution_count": 64,
   "metadata": {
    "deletable": false,
    "editable": false
   },
   "outputs": [],
   "source": [
    "# Initialize Otter\n",
    "import otter\n",
    "grader = otter.Notebook(\"final-exam.ipynb\")"
   ]
  },
  {
   "cell_type": "code",
   "execution_count": 65,
   "metadata": {},
   "outputs": [],
   "source": [
    "# Don't change this cell; just run it. \n",
    "\n",
    "import numpy as np\n",
    "from datascience import *\n",
    "import random\n",
    "import matplotlib\n",
    "%matplotlib inline\n",
    "import matplotlib.pyplot as plt\n",
    "plt.style.use('fivethirtyeight')\n",
    "import warnings\n",
    "warnings.simplefilter('ignore', FutureWarning)\n",
    "\n",
    "def make_correlated_data(r):\n",
    "    x = np.random.normal(0, 1, 1000)\n",
    "    z = np.random.normal(0, 1, 1000)\n",
    "    y = r*x + (np.sqrt(1-r**2))*z\n",
    "    return x, y\n",
    "\n",
    "def check_number(to_test):\n",
    "    is_float = False\n",
    "    try:\n",
    "        tmp = np.int64(to_test)\n",
    "        is_float = type(tmp) in set([int, np.int32, np.int64])\n",
    "    except:\n",
    "        pass\n",
    "    return is_float\n",
    "\n",
    "correlations = {}\n",
    "def get_correlations(tbl, corr_func):\n",
    "#    correlations = {} \n",
    "    for label in tbl.labels:\n",
    "        # check if the first element of the column is a number\n",
    "        if check_number(tbl.column(label)[0]):\n",
    "            correlations[label] = corr_func(tbl.column(\"Car Purchase Amount\"), tbl.column(label))\n",
    "        else:\n",
    "            correlations[label] = None\n",
    "    return Table().with_columns(\n",
    "        \"Column Label\", correlations.keys(),\n",
    "        \"Correlation\", correlations.values())"
   ]
  },
  {
   "cell_type": "markdown",
   "metadata": {},
   "source": [
    "# Final Exam\n",
    "\n",
    "Welcome to the Final Exam for DS100! Please read the following closely:\n",
    "\n",
    "* The exam is \"open web\" — as in you can use anything you can find or prepared in advance on the internet to help you during the exam.\n",
    "* However, there are several exceptions which will all be considered a violation of the Boston University [Academic Conduct Code](https://www.bu.edu/academics/policies/academic-conduct-code/). The penalty for such an act will be a 0 grade for the exam.\n",
    "  * Use of generative AI tools, e.g. ChatGPT, are **NOT** allowed even with citation. \n",
    "  * Communicating with other people (via voice or text) during this exam is **NOT** allowed even with citation.\n",
    "  * You may only use one device for the entirety of the exam so choose wisely.\n",
    "  * No materials other than your computer and a writing utensil are allowed. Scratch paper may be requested from the proctors.\n",
    "\n",
    "Please also note, because of the data in use in this exam, a couple features of the python modules/methods that we have not demonstrated in class may be in use. You can safely ignore them."
   ]
  },
  {
   "cell_type": "markdown",
   "metadata": {},
   "source": [
    "## Question 0"
   ]
  },
  {
   "cell_type": "markdown",
   "metadata": {
    "deletable": false,
    "editable": false
   },
   "source": [
    "Please assign the numeric part of your BUID to a variable called `my_id`. Do NOT include the \"U\". Please also assign your name to `my_name`.\n",
    "\n",
    "<!--\n",
    "BEGIN QUESTION\n",
    "name: q0\n",
    "points: 2\n",
    "manual: false\n",
    "-->"
   ]
  },
  {
   "cell_type": "code",
   "execution_count": 66,
   "metadata": {},
   "outputs": [],
   "source": [
    "my_id = 15729547\n",
    "my_name = 'Josephine Kim'"
   ]
  },
  {
   "cell_type": "code",
   "execution_count": 67,
   "metadata": {
    "deletable": false,
    "editable": false
   },
   "outputs": [
    {
     "data": {
      "text/html": [
       "<p><strong><pre style='display: inline;'>q0</pre></strong> passed!</p>"
      ],
      "text/plain": [
       "q0 results: All test cases passed!"
      ]
     },
     "execution_count": 67,
     "metadata": {},
     "output_type": "execute_result"
    }
   ],
   "source": [
    "grader.check(\"q0\")"
   ]
  },
  {
   "cell_type": "markdown",
   "metadata": {},
   "source": [
    "## Question 1"
   ]
  },
  {
   "cell_type": "markdown",
   "metadata": {
    "deletable": false,
    "editable": false
   },
   "source": [
    "<!-- BEGIN QUESTION -->\n",
    "\n",
    "Car Insurance is something you have to pay for to drive a car in most places. The insurance will pay for damage to your car, yourself, or other people in the event of an accident. You pay a monthly amount, called a \"premium,\" based on your liklihood to need to use the insurance (have an accident).  \n",
    "We have a few facts:\n",
    "* Car insurance companies have a profit-based interest in understanding exactly the risk their insurance is under. In other words, if you are more likely to recieve an insurance payment they want you to pay more in premiums.\n",
    "* Car insurance companies also rate roads, areas, etc as part of their calculation for determining premiums. \n",
    "* Car insurance companies are now offering discounts to customers for \"proving\" they drive safely by installing a GPS tracking device in the customer car that sends speed, braking, and location based information to the insurance company.\n",
    "\n",
    "Please provide (as `unethical_example`) one example of how the GPS data could result in an unethical result for the customers. Please also explain how it is unethical. No more than one paragraph is expected. Make sure you see your answer when you run the cell and not `False`. Feel free to come back to this question at the end.\n",
    "<!--\n",
    "BEGIN QUESTION\n",
    "name: q1\n",
    "points: 8 \n",
    "manual: true\n",
    "-->"
   ]
  },
  {
   "cell_type": "code",
   "execution_count": 68,
   "metadata": {},
   "outputs": [
    {
     "name": "stdout",
     "output_type": "stream",
     "text": [
      "One example of how the GPS data could result in an unethical result for the customer is by keeping track of areas/locations that seem to commonly have accidents and the drivers who live in those areas. The insurance company can see who lives near that area by looking at how consistently drivers are leaving from that area and coming back to it. This could be unethical if the insurance company decides to raise the premium for drivers in the area that commonly has accidents. This is unethical because the people who live in that area and have to pay that higher premium are paying more than other drivers simply because they live in that area. Not every driver in that location is getting into accidents or is being a bad driver, they could have a completely clean record. But since they live in an area that the insurance company sees has a lot of accidents, they will have to pay more.\n"
     ]
    }
   ],
   "source": [
    "for_example = \"this text is a hint for \" + \\\n",
    "    \"how to make your string multiple lines\" + \\\n",
    "    \"so that it is easier for YOU to read.\" + \\\n",
    "    \"You are not *required* to use this style for your answer\"\n",
    "\n",
    "unethical_example = 'One example of how the GPS data could result in an unethical result for the customer' + \\\n",
    "    ' is by keeping track of areas/locations that seem to commonly have accidents and the drivers who live in those areas.' + \\\n",
    "    ' The insurance company can see who lives near that area by looking at how consistently drivers are leaving from' + \\\n",
    "    ' that area and coming back to it. This could be unethical if the insurance company decides to raise the premium' + \\\n",
    "    ' for drivers in the area that commonly has accidents. This is unethical because the people who live in that area' + \\\n",
    "    ' and have to pay that higher premium are paying more than other drivers simply because they live in that area. ' + \\\n",
    "    'Not every driver in that location is getting into accidents or is being a bad driver, they could have a completely ' + \\\n",
    "    'clean record. But since they live in an area that the insurance company sees has a lot of accidents, they will ' + \\\n",
    "    'have to pay more.'\n",
    "\n",
    "type(unethical_example) == str and print(unethical_example)"
   ]
  },
  {
   "cell_type": "markdown",
   "metadata": {},
   "source": [
    "<!-- END QUESTION -->\n",
    "\n",
    "\n",
    "\n",
    "## Question 2"
   ]
  },
  {
   "cell_type": "markdown",
   "metadata": {},
   "source": [
    "Let's take a look at some car buying data. What do you think informs the amount of money people are willing to spend on a car? Once you look at the sample, move on to Q2.1.1"
   ]
  },
  {
   "cell_type": "code",
   "execution_count": 69,
   "metadata": {},
   "outputs": [
    {
     "data": {
      "text/html": [
       "<table border=\"1\" class=\"dataframe\">\n",
       "    <thead>\n",
       "        <tr>\n",
       "            <th>Customer Name</th> <th>Country</th> <th>Gender</th> <th>Age</th> <th>Annual Salary</th> <th>Credit Card Debt</th> <th>Net Worth</th> <th>Car Purchase Amount</th>\n",
       "        </tr>\n",
       "    </thead>\n",
       "    <tbody>\n",
       "        <tr>\n",
       "            <td>Martina Avila  </td> <td>USA    </td> <td>0     </td> <td>42  </td> <td>62812.1      </td> <td>11609.4         </td> <td>238961   </td> <td>35321.5            </td>\n",
       "        </tr>\n",
       "        <tr>\n",
       "            <td>Harlan Barnes  </td> <td>USA    </td> <td>0     </td> <td>41  </td> <td>66646.9      </td> <td>9572.96         </td> <td>530974   </td> <td>45115.5            </td>\n",
       "        </tr>\n",
       "        <tr>\n",
       "            <td>Naomi Rodriquez</td> <td>USA    </td> <td>1     </td> <td>43  </td> <td>53798.6      </td> <td>11160.4         </td> <td>638467   </td> <td>42925.7            </td>\n",
       "        </tr>\n",
       "        <tr>\n",
       "            <td>Jade Cunningham</td> <td>USA    </td> <td>1     </td> <td>58  </td> <td>79370        </td> <td>14426.2         </td> <td>548599   </td> <td>67422.4            </td>\n",
       "        </tr>\n",
       "        <tr>\n",
       "            <td>Cedric Leach   </td> <td>USA    </td> <td>1     </td> <td>57  </td> <td>59729.2      </td> <td>5358.71         </td> <td>560304   </td> <td>55915.5            </td>\n",
       "        </tr>\n",
       "    </tbody>\n",
       "</table>\n",
       "<p>... (496 rows omitted)</p>"
      ],
      "text/plain": [
       "<IPython.core.display.HTML object>"
      ]
     },
     "metadata": {},
     "output_type": "display_data"
    },
    {
     "data": {
      "text/html": [
       "<table border=\"1\" class=\"dataframe\">\n",
       "    <thead>\n",
       "        <tr>\n",
       "            <th>Customer Name</th> <th>Country</th> <th>Gender</th> <th>Age</th> <th>Annual Salary</th> <th>Credit Card Debt</th> <th>Net Worth</th> <th>Car Purchase Amount</th>\n",
       "        </tr>\n",
       "    </thead>\n",
       "    <tbody>\n",
       "        <tr>\n",
       "            <td>Josephine Kim</td> <td>USA    </td> <td>1     </td> <td>18  </td> <td>15729        </td> <td>157             </td> <td>157295   </td> <td>34922              </td>\n",
       "        </tr>\n",
       "    </tbody>\n",
       "</table>"
      ],
      "text/plain": [
       "Customer Name | Country | Gender | Age  | Annual Salary | Credit Card Debt | Net Worth | Car Purchase Amount\n",
       "Josephine Kim | USA     | 1      | 18   | 15729         | 157              | 157295    | 34922"
      ]
     },
     "execution_count": 69,
     "metadata": {},
     "output_type": "execute_result"
    }
   ],
   "source": [
    "cars = Table.read_table(\"cars.csv\")\n",
    "# let's add you to the car buyers!\n",
    "cars = cars.with_row([my_name, \"USA\", random.randint(0, 1), random.randint(17, 25), \n",
    "                      float(str(my_id)[:5]), float(str(my_id)[:3]), float(str(my_id)[:6]), 34922])\n",
    "cars.show(5)\n",
    "cars.where(\"Customer Name\", my_name)"
   ]
  },
  {
   "cell_type": "markdown",
   "metadata": {
    "deletable": false,
    "editable": false
   },
   "source": [
    "**Question 2.1.1**\n",
    "\n",
    "Let's see if we can find any strong correlations between the data and what people are willing to spend on a car. Please implement a standard units conversion method based on an array and then implement a correlation method also based on an array.\n",
    "\n",
    "<!--\n",
    "BEGIN QUESTION\n",
    "name: q2_1_1\n",
    "points: \n",
    " - 2\n",
    " - 2\n",
    "manual: false\n",
    "-->"
   ]
  },
  {
   "cell_type": "code",
   "execution_count": 70,
   "metadata": {},
   "outputs": [
    {
     "data": {
      "text/html": [
       "<table border=\"1\" class=\"dataframe\">\n",
       "    <thead>\n",
       "        <tr>\n",
       "            <th>Column Label</th> <th>Correlation</th>\n",
       "        </tr>\n",
       "    </thead>\n",
       "    <tbody>\n",
       "        <tr>\n",
       "            <td>Customer Name      </td> <td>None       </td>\n",
       "        </tr>\n",
       "        <tr>\n",
       "            <td>Country            </td> <td>None       </td>\n",
       "        </tr>\n",
       "        <tr>\n",
       "            <td>Gender             </td> <td>-0.0679927 </td>\n",
       "        </tr>\n",
       "        <tr>\n",
       "            <td>Age                </td> <td>0.631063   </td>\n",
       "        </tr>\n",
       "        <tr>\n",
       "            <td>Annual Salary      </td> <td>0.614648   </td>\n",
       "        </tr>\n",
       "        <tr>\n",
       "            <td>Credit Card Debt   </td> <td>0.0332844  </td>\n",
       "        </tr>\n",
       "        <tr>\n",
       "            <td>Net Worth          </td> <td>0.489718   </td>\n",
       "        </tr>\n",
       "        <tr>\n",
       "            <td>Car Purchase Amount</td> <td>1          </td>\n",
       "        </tr>\n",
       "    </tbody>\n",
       "</table>"
      ],
      "text/plain": [
       "<IPython.core.display.HTML object>"
      ]
     },
     "metadata": {},
     "output_type": "display_data"
    }
   ],
   "source": [
    "def standard_units(arr):\n",
    "    return (arr - np.mean(arr))/np.std(arr)\n",
    "\n",
    "def correlation(arr1, arr2):\n",
    "    arr1standard = standard_units(arr1)\n",
    "    arr2standard = standard_units(arr2)\n",
    "    return np.mean(arr1standard * arr2standard)\n",
    "\n",
    "get_correlations(cars, correlation).show()"
   ]
  },
  {
   "cell_type": "code",
   "execution_count": 71,
   "metadata": {
    "deletable": false,
    "editable": false
   },
   "outputs": [
    {
     "data": {
      "text/html": [
       "<p><strong><pre style='display: inline;'>q2_1_1</pre></strong> passed!</p>"
      ],
      "text/plain": [
       "q2_1_1 results: All test cases passed!"
      ]
     },
     "execution_count": 71,
     "metadata": {},
     "output_type": "execute_result"
    }
   ],
   "source": [
    "grader.check(\"q2_1_1\")"
   ]
  },
  {
   "cell_type": "markdown",
   "metadata": {
    "deletable": false,
    "editable": false
   },
   "source": [
    "**Question 2.1.2**\n",
    "\n",
    "Please assign the strongest correlation column name to `best_corellation`. Remember to compare apples to apples.\n",
    "\n",
    "<!--\n",
    "BEGIN QUESTION\n",
    "name: q2_1_2\n",
    "points: 4\n",
    "manual: false\n",
    "-->"
   ]
  },
  {
   "cell_type": "code",
   "execution_count": 72,
   "metadata": {},
   "outputs": [
    {
     "data": {
      "text/plain": [
       "'Car Purchase Amount'"
      ]
     },
     "execution_count": 72,
     "metadata": {},
     "output_type": "execute_result"
    }
   ],
   "source": [
    "# choose the best correlation from the table the prior cell printed\n",
    "best_correlation = 'Car Purchase Amount'\n",
    "best_correlation"
   ]
  },
  {
   "cell_type": "code",
   "execution_count": 73,
   "metadata": {
    "deletable": false,
    "editable": false
   },
   "outputs": [
    {
     "data": {
      "text/html": [
       "<p><strong><pre style='display: inline;'>q2_1_2</pre></strong> passed!</p>"
      ],
      "text/plain": [
       "q2_1_2 results: All test cases passed!"
      ]
     },
     "execution_count": 73,
     "metadata": {},
     "output_type": "execute_result"
    }
   ],
   "source": [
    "grader.check(\"q2_1_2\")"
   ]
  },
  {
   "cell_type": "markdown",
   "metadata": {
    "deletable": false,
    "editable": false
   },
   "source": [
    "<!-- BEGIN QUESTION -->\n",
    "\n",
    "**Question 2.2**\n",
    "\n",
    "OK, no matter what you found for the previous question, let's look at the `Net Worth` relationship to `Car Purchase Amount`\n",
    "First up, let's make a graph of the two columns and see what their relationship looks like.\n",
    "\n",
    "<!--\n",
    "BEGIN QUESTION\n",
    "name: q2_2\n",
    "points: 4\n",
    "manual: true\n",
    "-->"
   ]
  },
  {
   "cell_type": "code",
   "execution_count": 74,
   "metadata": {},
   "outputs": [
    {
     "data": {
      "image/png": "[encoded data removed]",
      "text/plain": [
       "<Figure size 500x500 with 1 Axes>"
      ]
     },
     "metadata": {},
     "output_type": "display_data"
    }
   ],
   "source": [
    "cars.scatter(\"Net Worth\", \"Car Purchase Amount\")"
   ]
  },
  {
   "cell_type": "markdown",
   "metadata": {
    "deletable": false,
    "editable": false
   },
   "source": [
    "<!-- END QUESTION -->\n",
    "\n",
    "**Question 2.3**\n",
    "\n",
    "So now we know there is a correlation. We can see it if we look at the graph as well. Now let's try to do a linear regression. Please assign the slope to `cars_slope` and the intercept to `cars_intercept`.\n",
    "\n",
    "<!--\n",
    "BEGIN QUESTION\n",
    "name: q2_3\n",
    "points: 8\n",
    "manual: false\n",
    "-->"
   ]
  },
  {
   "cell_type": "code",
   "execution_count": 76,
   "metadata": {},
   "outputs": [
    {
     "data": {
      "text/plain": [
       "(0.030348695210388327, 31113.144609682648)"
      ]
     },
     "execution_count": 76,
     "metadata": {},
     "output_type": "execute_result"
    }
   ],
   "source": [
    "def slope(tbl, x_column_name, y_column_name):\n",
    "    \"\"\" Computes the slope of the regression line \"\"\"\n",
    "    r = correlation(tbl.column(x_column_name),tbl.column(y_column_name)) \n",
    "    y_sd = np.std(tbl.column(y_column_name)) \n",
    "    x_sd = np.std(tbl.column(x_column_name)) \n",
    "    return r * y_sd / x_sd\n",
    "\n",
    "def intercept(tbl, x_column_name, y_column_name):\n",
    "    \"\"\" Computes the intercept of the regression line \"\"\"\n",
    "    mean_x = np.mean(tbl.column(x_column_name)) \n",
    "    mean_y = np.mean(tbl.column(y_column_name))\n",
    "    return mean_y - (slope(tbl, x_column_name, y_column_name)) * mean_x\n",
    "\n",
    "cars_slope = slope(cars,'Net Worth','Car Purchase Amount')\n",
    "cars_intercept = intercept(cars,'Net Worth','Car Purchase Amount')\n",
    "cars_slope,cars_intercept"
   ]
  },
  {
   "cell_type": "code",
   "execution_count": 77,
   "metadata": {
    "deletable": false,
    "editable": false
   },
   "outputs": [
    {
     "data": {
      "text/html": [
       "<p><strong><pre style='display: inline;'>q2_3</pre></strong> passed!</p>"
      ],
      "text/plain": [
       "q2_3 results: All test cases passed!"
      ]
     },
     "execution_count": 77,
     "metadata": {},
     "output_type": "execute_result"
    }
   ],
   "source": [
    "grader.check(\"q2_3\")"
   ]
  },
  {
   "cell_type": "markdown",
   "metadata": {
    "deletable": false,
    "editable": false
   },
   "source": [
    "**Question 2.4**\n",
    "\n",
    "Let's make some predictions. Using the slope and intercept we calculated above, let's make some preditions. Please assign your predictions to a variable called `predictions`.\n",
    "\n",
    "<!--\n",
    "BEGIN QUESTION\n",
    "name: q2_4\n",
    "points: 8\n",
    "manual: false\n",
    "-->"
   ]
  },
  {
   "cell_type": "code",
   "execution_count": 78,
   "metadata": {},
   "outputs": [],
   "source": [
    "def fitted_values(tbl, x_column_name, y_column_name):\n",
    "    \"\"\"Return an array of the regressions estimates at all the x values\"\"\"\n",
    "    a = slope(tbl, x_column_name, y_column_name) \n",
    "    b = intercept(tbl, x_column_name, x_column_name) \n",
    "    return a * tbl.column(x_column_name) + b\n",
    "\n",
    "predictions = fitted_values(cars, 'Net Worth', 'Car Purchase Amount')"
   ]
  },
  {
   "cell_type": "code",
   "execution_count": 79,
   "metadata": {
    "deletable": false,
    "editable": false
   },
   "outputs": [
    {
     "data": {
      "text/html": [
       "<p><strong><pre style='display: inline;'>q2_4</pre></strong> passed!</p>"
      ],
      "text/plain": [
       "q2_4 results: All test cases passed!"
      ]
     },
     "execution_count": 79,
     "metadata": {},
     "output_type": "execute_result"
    }
   ],
   "source": [
    "grader.check(\"q2_4\")"
   ]
  },
  {
   "cell_type": "markdown",
   "metadata": {
    "deletable": false,
    "editable": false
   },
   "source": [
    "<!-- BEGIN QUESTION -->\n",
    "\n",
    "**Question 2.5**\n",
    "\n",
    "Now we check our accuracy. Let's plot the residuals. Note, *just* the residuals. You can reuse the `predictions` from above or recalculate them.\n",
    "\n",
    "<!--\n",
    "BEGIN QUESTION\n",
    "name: q2_5\n",
    "points: 8\n",
    "manual: true\n",
    "-->"
   ]
  },
  {
   "cell_type": "code",
   "execution_count": 80,
   "metadata": {},
   "outputs": [
    {
     "data": {
      "image/png": "[encoded data removed]",
      "text/plain": [
       "<Figure size 500x500 with 1 Axes>"
      ]
     },
     "metadata": {},
     "output_type": "display_data"
    }
   ],
   "source": [
    "def residuals(t, x, y):\n",
    "    predictions = fitted_values(cars, 'Net Worth', 'Car Purchase Amount')\n",
    "    return t.column(y) - predictions\n",
    "\n",
    "cars_with_residuals = cars.with_column('Residuals',residuals(cars, 'Net Worth', 'Car Purchase Amount'))\n",
    "cars_with_residuals\n",
    "cars_with_residuals.scatter(\"Net Worth\", \"Residuals\")"
   ]
  },
  {
   "cell_type": "markdown",
   "metadata": {
    "deletable": false,
    "editable": false
   },
   "source": [
    "<!-- END QUESTION -->\n",
    "\n",
    "**Question 2.6**\n",
    "\n",
    "To further check the quality of our line, let's figure out the RMSE. Do not round your result.\n",
    "\n",
    "<!--\n",
    "BEGIN QUESTION\n",
    "name: q2_6\n",
    "points: 8\n",
    "manual: false\n",
    "-->"
   ]
  },
  {
   "cell_type": "code",
   "execution_count": 81,
   "metadata": {},
   "outputs": [
    {
     "data": {
      "text/plain": [
       "9381.12339388856"
      ]
     },
     "execution_count": 81,
     "metadata": {},
     "output_type": "execute_result"
    }
   ],
   "source": [
    "fitted = slope(cars_with_residuals, \"Net Worth\", \"Residuals\") * cars_with_residuals.column('Net Worth') + intercept(cars_with_residuals, \"Net Worth\", \"Residuals\")\n",
    "mse = np.mean((cars_with_residuals.column('Residuals')- fitted) ** 2)\n",
    "rmse = mse**.5\n",
    "rmse"
   ]
  },
  {
   "cell_type": "code",
   "execution_count": 82,
   "metadata": {
    "deletable": false,
    "editable": false
   },
   "outputs": [
    {
     "data": {
      "text/html": [
       "<p><strong><pre style='display: inline;'>q2_6</pre></strong> passed!</p>"
      ],
      "text/plain": [
       "q2_6 results: All test cases passed!"
      ]
     },
     "execution_count": 82,
     "metadata": {},
     "output_type": "execute_result"
    }
   ],
   "source": [
    "grader.check(\"q2_6\")"
   ]
  },
  {
   "cell_type": "markdown",
   "metadata": {},
   "source": [
    "Congratulations, you are done with the Final Exam!\n",
    "\n",
    "**Important submission steps:** \n",
    "1. Run the tests and verify that they all pass.\n",
    "2. Choose **Save Notebook** from the **File** menu or **Download** as **ipynb**. \n",
    "3. Then submit the file to Final Exam in Gradescope. \n",
    "\n",
    "**It is your responsibility to make sure your work is saved before downloading.**"
   ]
  },
  {
   "cell_type": "markdown",
   "metadata": {
    "deletable": false,
    "editable": false
   },
   "source": [
    "---\n",
    "\n",
    "To double-check your work, the cell below will rerun all of the autograder tests."
   ]
  },
  {
   "cell_type": "code",
   "execution_count": 83,
   "metadata": {
    "deletable": false,
    "editable": false
   },
   "outputs": [
    {
     "data": {
      "text/plain": [
       "q0 results: All test cases passed!\n",
       "\n",
       "q2_1_1 results: All test cases passed!\n",
       "\n",
       "q2_1_2 results: All test cases passed!\n",
       "\n",
       "q2_3 results: All test cases passed!\n",
       "\n",
       "q2_4 results: All test cases passed!\n",
       "\n",
       "q2_6 results: All test cases passed!"
      ]
     },
     "execution_count": 83,
     "metadata": {},
     "output_type": "execute_result"
    }
   ],
   "source": [
    "grader.check_all()"
   ]
  },
  {
   "cell_type": "code",
   "execution_count": null,
   "metadata": {},
   "outputs": [],
   "source": []
  }
 ],
 "metadata": {
  "celltoolbar": "Edit Metadata",
  "interpreter": {
   "hash": "e7370f93d1d0cde622a1f8e1c04877d8463912d04d973331ad4851f04de6915a"
  },
  "kernelspec": {
   "display_name": "Python 3",
   "language": "python",
   "name": "python3"
  },
  "language_info": {
   "codemirror_mode": {
    "name": "ipython",
    "version": 3
   },
   "file_extension": ".py",
   "mimetype": "text/x-python",
   "name": "python",
   "nbconvert_exporter": "python",
   "pygments_lexer": "ipython3",
   "version": "3.8.10"
  }
 },
 "nbformat": 4,
 "nbformat_minor": 1
}
