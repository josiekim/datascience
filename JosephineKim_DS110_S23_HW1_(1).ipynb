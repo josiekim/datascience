{
  "cells": [
    {
      "cell_type": "markdown",
      "metadata": {
        "id": "t5mfEbDIGzKz"
      },
      "source": [
        "# Homework 1 - 60 points possible - Due 2/1 11:59pm"
      ]
    },
    {
      "cell_type": "markdown",
      "metadata": {
        "id": "r3B-dpH5iZLv"
      },
      "source": [
        "# Problem 1:  Expression warmups (20 pts: 2,2,2,2,4,2,3,3)\n",
        "\n",
        "Compute the following quantities in the code boxes that follow each prompt.\n",
        "Note that for each of these, we care about what the code *evaluates to* and not what it *prints* - so you don't need to call print() for any of these.\n",
        "\n",
        "a) (2 pts) The square of 2023.\n",
        "\n"
      ]
    },
    {
      "cell_type": "code",
      "execution_count": null,
      "metadata": {
        "colab": {
          "base_uri": "https://localhost:8080/"
        },
        "id": "rEMn_1TbiuB8",
        "outputId": "bbde8b2b-12ff-446c-dd03-e291acb24019"
      },
      "outputs": [
        {
          "output_type": "execute_result",
          "data": {
            "text/plain": [
              "4092529"
            ]
          },
          "metadata": {},
          "execution_count": 2
        }
      ],
      "source": [
        "2023**2# TODO"
      ]
    },
    {
      "cell_type": "markdown",
      "metadata": {
        "id": "xxv597ytixjM"
      },
      "source": [
        "b) (2 pts) The number of characters in the phrase \"Pursue the unknown end.\"  (Including the whitespace and period.)"
      ]
    },
    {
      "cell_type": "code",
      "execution_count": null,
      "metadata": {
        "colab": {
          "base_uri": "https://localhost:8080/"
        },
        "id": "uIGdIsgbi_Lb",
        "outputId": "ac671a4f-e18c-42fd-ad79-356ee0aa4ff1"
      },
      "outputs": [
        {
          "output_type": "execute_result",
          "data": {
            "text/plain": [
              "23"
            ]
          },
          "metadata": {},
          "execution_count": 1
        }
      ],
      "source": [
        "len(\"Pursue the unknown end.\")# TODO"
      ]
    },
    {
      "cell_type": "markdown",
      "metadata": {
        "id": "V_fmMh-3ja1o"
      },
      "source": [
        "c) (2 pts) The remainder (import the math library) of -289 divided by 12."
      ]
    },
    {
      "cell_type": "code",
      "execution_count": null,
      "metadata": {
        "colab": {
          "base_uri": "https://localhost:8080/"
        },
        "id": "QM5HsgRIjZ5T",
        "outputId": "f0ded8bb-4445-4d16-a4f7-339f5ad5be54"
      },
      "outputs": [
        {
          "output_type": "execute_result",
          "data": {
            "text/plain": [
              "-1.0"
            ]
          },
          "metadata": {},
          "execution_count": 5
        }
      ],
      "source": [
        "import math\n",
        "math.remainder(-289,12)# TODO"
      ]
    },
    {
      "cell_type": "markdown",
      "metadata": {
        "id": "V2Xpw2VuUzSi"
      },
      "source": [
        "d) (2 pts) A Boolean expression that is true if and only at least one of variable *a* and variable *b* are True."
      ]
    },
    {
      "cell_type": "code",
      "execution_count": 2,
      "metadata": {
        "colab": {
          "base_uri": "https://localhost:8080/"
        },
        "id": "1KBoX8FhUxgW",
        "outputId": "297ac07c-da03-4923-9220-174d48b8cf0f"
      },
      "outputs": [
        {
          "output_type": "execute_result",
          "data": {
            "text/plain": [
              "True"
            ]
          },
          "metadata": {},
          "execution_count": 2
        }
      ],
      "source": [
        "a = True # play with this to test\n",
        "b = True  # play with this to test\n",
        "# TODO your expression below\n",
        "a or b"
      ]
    },
    {
      "cell_type": "markdown",
      "metadata": {
        "id": "EjOTeZl90KO9"
      },
      "source": [
        "e) (4 pts) A Boolean expression that is true if and only if *exactly one* of variable *a* and variable *b* is True and the other is False.  (Hint:  break it into two cases)"
      ]
    },
    {
      "cell_type": "code",
      "execution_count": 3,
      "metadata": {
        "colab": {
          "base_uri": "https://localhost:8080/"
        },
        "id": "LOWHYmZ-0JZx",
        "outputId": "bd36a561-2c39-44a3-e504-c83e46d1acc0"
      },
      "outputs": [
        {
          "output_type": "execute_result",
          "data": {
            "text/plain": [
              "True"
            ]
          },
          "metadata": {},
          "execution_count": 3
        }
      ],
      "source": [
        "a=False\n",
        "b=True\n",
        "# a is true and b is false or a is false and b is true\n",
        "(a and not b) or (not a and b)"
      ]
    },
    {
      "cell_type": "markdown",
      "metadata": {
        "id": "zoGUTlOjV_7O"
      },
      "source": [
        "f) (2 pts) An expression that is true only if the variable *balance* is at least 10000."
      ]
    },
    {
      "cell_type": "code",
      "execution_count": 6,
      "metadata": {
        "colab": {
          "base_uri": "https://localhost:8080/"
        },
        "id": "1wOj7ryvWL05",
        "outputId": "b883e04f-abd4-42bd-cd75-75002714ff9e"
      },
      "outputs": [
        {
          "output_type": "execute_result",
          "data": {
            "text/plain": [
              "True"
            ]
          },
          "metadata": {},
          "execution_count": 6
        }
      ],
      "source": [
        "balance = 100000\n",
        "# TODO your expression below\n",
        "balance >= 10000"
      ]
    },
    {
      "cell_type": "markdown",
      "metadata": {
        "id": "mKs8KYCs1LEe"
      },
      "source": [
        "g) (3pts) An expression that is True only if variable *balance* is in the range [-500, 500] (-500 through 500 inclusive) and is also not 0."
      ]
    },
    {
      "cell_type": "code",
      "execution_count": 10,
      "metadata": {
        "colab": {
          "base_uri": "https://localhost:8080/"
        },
        "id": "lMEhW2cT1keY",
        "outputId": "c76bc557-198d-452f-ae71-8b32adda4ef0"
      },
      "outputs": [
        {
          "output_type": "execute_result",
          "data": {
            "text/plain": [
              "True"
            ]
          },
          "metadata": {},
          "execution_count": 10
        }
      ],
      "source": [
        "balance = 499\n",
        "# TODO expression below\n",
        "-500<=balance and balance <=500 and balance!= 0"
      ]
    },
    {
      "cell_type": "markdown",
      "metadata": {
        "id": "EocUerLnGOGX"
      },
      "source": [
        "h) (3 pts) An expression that is true only if list L1 and list L2 have the same length."
      ]
    },
    {
      "cell_type": "code",
      "execution_count": 11,
      "metadata": {
        "id": "QBZPtfqTGcbr",
        "colab": {
          "base_uri": "https://localhost:8080/"
        },
        "outputId": "dfcd1ade-1351-4bde-91b0-40b86da20581"
      },
      "outputs": [
        {
          "output_type": "execute_result",
          "data": {
            "text/plain": [
              "True"
            ]
          },
          "metadata": {},
          "execution_count": 11
        }
      ],
      "source": [
        "L1 = ['a', 'b']\n",
        "L2 = ['c', 'd']\n",
        "# TODO expression below\n",
        "len(L1) == len(L2)"
      ]
    },
    {
      "cell_type": "markdown",
      "metadata": {
        "id": "zSHlKxeL2Dxi"
      },
      "source": [
        "# Problem 2:  Conditional warmups (20 pts: 6,8,6)"
      ]
    },
    {
      "cell_type": "markdown",
      "metadata": {
        "id": "vnnhP-eg2GaI"
      },
      "source": [
        "Write a brief program for each prompt that makes use of the provided variable current_hour to determine what hour of the day it is.  current_hour can be set to any value between 0 (midnight) and 23 (11pm)."
      ]
    },
    {
      "cell_type": "code",
      "execution_count": null,
      "metadata": {
        "id": "7INB3vZW2QEZ",
        "colab": {
          "base_uri": "https://localhost:8080/"
        },
        "outputId": "3637eb38-19b0-44d8-ff3f-79f9748e7145"
      },
      "outputs": [
        {
          "output_type": "execute_result",
          "data": {
            "text/plain": [
              "True"
            ]
          },
          "metadata": {},
          "execution_count": 9
        }
      ],
      "source": [
        "current_hour = 10  # change to get different outputs below\n",
        "0<current_hour and current_hour<23"
      ]
    },
    {
      "cell_type": "markdown",
      "metadata": {
        "id": "WyUKMhGV3-TV"
      },
      "source": [
        "a) (6 pts) If the current hour is between 5 and 9 inclusive, print \"Breakfast!\".  If the current hour is between 10 and 13 inclusive, print \"Brunch!\"  Otherwise, print \"Not breakfast :(\"."
      ]
    },
    {
      "cell_type": "code",
      "execution_count": null,
      "metadata": {
        "colab": {
          "base_uri": "https://localhost:8080/"
        },
        "id": "0ywaqLMb4Znk",
        "outputId": "c6e17d95-9497-4fdf-b1e3-8eddeabe2bad"
      },
      "outputs": [
        {
          "output_type": "stream",
          "name": "stdout",
          "text": [
            "Brunch!\n"
          ]
        }
      ],
      "source": [
        "# TODO\n",
        "current_hour = 11\n",
        "if 5<=current_hour and current_hour<=9:\n",
        "  print(\"Breakfast!\")\n",
        "elif 10<=current_hour and current_hour<=13:\n",
        "  print(\"Brunch!\")\n",
        "else:\n",
        "  print(\"Not breakfast :(\")\n"
      ]
    },
    {
      "cell_type": "markdown",
      "metadata": {
        "id": "ydjGzl3N5FxV"
      },
      "source": [
        "b) (8 points) If the time is equal to or after 9:00pm (21), print \"In three hours, it will be tomorrow.\" Otherwise, print \"In three hours, it will be \" followed by the hour three hours later using non-military time (so between 1 and 12).  (For example, if current_hour were 16, write \"In three hours, it will be 7.\")\n",
        "\n"
      ]
    },
    {
      "cell_type": "code",
      "execution_count": 14,
      "metadata": {
        "colab": {
          "base_uri": "https://localhost:8080/"
        },
        "id": "qCDO8lpj5ENe",
        "outputId": "24760594-c5e0-4b05-87a7-e6773613d124"
      },
      "outputs": [
        {
          "output_type": "stream",
          "name": "stdout",
          "text": [
            "In three hours, it will be 12\n"
          ]
        }
      ],
      "source": [
        "# TODO\n",
        "current_hour = 9\n",
        "if current_hour>=21:\n",
        "  print(\"In three hours, it will be tomorrow\")\n",
        "else:\n",
        "  if current_hour>0 and current_hour<10:\n",
        "    print(\"In three hours, it will be\", current_hour+3)\n",
        "  else:\n",
        "    print(\"In three hours, it will be\", current_hour-9)"
      ]
    },
    {
      "cell_type": "markdown",
      "metadata": {
        "id": "V-u01t1KsrFr"
      },
      "source": [
        "c) (6 points)  Print \"X hours until midnight\" if it's noon or later in the day, where X is the correct number of hours, and \"X hours until noon\" if it's before noon.  If it's noon or midnight, print \"Noon\" or \"Midnight\", respectively.  (You don't need to change \"hours\" to \"hour\" if there's just one.)"
      ]
    },
    {
      "cell_type": "code",
      "execution_count": null,
      "metadata": {
        "colab": {
          "base_uri": "https://localhost:8080/"
        },
        "id": "gK8l4gN4srFs",
        "outputId": "71aad47f-2ea1-46e8-fee4-a6f81a6d517f"
      },
      "outputs": [
        {
          "output_type": "stream",
          "name": "stdout",
          "text": [
            "noon\n"
          ]
        }
      ],
      "source": [
        "# TODO\n",
        "current_hour = 12\n",
        "if current_hour > 12 and current_hour != 24:\n",
        "  current_hour = 24 - current_hour \n",
        "  print( current_hour, \"hours until midnight\")\n",
        "elif current_hour< 12:\n",
        "  current_hour = 12 - current_hour\n",
        "  print(current_hour,\"hours until noon\")\n",
        "elif current_hour == 24:\n",
        "  print(\"midnight\")\n",
        "elif current_hour == 12:\n",
        "  print(\"noon\")"
      ]
    },
    {
      "cell_type": "markdown",
      "metadata": {
        "id": "4ZCmUSwkr484"
      },
      "source": [
        "# Problem 3: Lists (20 pts: 2,2,3,4,3,3)\n",
        "\n",
        "Some gas prices around the Boston area are 4.99, 5.10, 5.40, and 4.80.\n",
        "\n",
        "a, 2pts) Create a variable named gas_prices that stores all four values as a list."
      ]
    },
    {
      "cell_type": "code",
      "execution_count": 17,
      "metadata": {
        "id": "Ujr6MRQQsX9t",
        "colab": {
          "base_uri": "https://localhost:8080/"
        },
        "outputId": "65be38c5-3c52-4d88-d258-f6870bbf3d40"
      },
      "outputs": [
        {
          "output_type": "execute_result",
          "data": {
            "text/plain": [
              "[4.99, 5.1, 5.4, 4.8]"
            ]
          },
          "metadata": {},
          "execution_count": 17
        }
      ],
      "source": [
        "# TODO\n",
        "gas_prices = [4.99, 5.10, 5.40, 4.80]\n",
        "gas_prices"
      ]
    },
    {
      "cell_type": "markdown",
      "metadata": {
        "id": "Yr3TSbbJsoao"
      },
      "source": [
        "b, 2pts) We discovered a new gas station.  Call the list method\n",
        " append() to add the value 4.75 to the end of the list."
      ]
    },
    {
      "cell_type": "code",
      "execution_count": 18,
      "metadata": {
        "colab": {
          "base_uri": "https://localhost:8080/"
        },
        "id": "NqzSEhGfsfiy",
        "outputId": "8ca9ec58-430e-4481-bf95-275a42e4b734"
      },
      "outputs": [
        {
          "output_type": "execute_result",
          "data": {
            "text/plain": [
              "[4.99, 5.1, 5.4, 4.8, 4.75]"
            ]
          },
          "metadata": {},
          "execution_count": 18
        }
      ],
      "source": [
        "gas_prices = [4.99, 5.10, 5.40, 4.80]\n",
        "gas_prices.append(4.75)\n",
        "gas_prices# TODO"
      ]
    },
    {
      "cell_type": "markdown",
      "metadata": {
        "id": "aPVRow22s6mp"
      },
      "source": [
        "c, 3pts) Call the sort() method on the prices, then write an expression that returns the median price in the list, that is, the price in the middle.  (You can hardcode the index of the median price.)"
      ]
    },
    {
      "cell_type": "code",
      "execution_count": 19,
      "metadata": {
        "id": "vRM2otpXtOCg",
        "colab": {
          "base_uri": "https://localhost:8080/"
        },
        "outputId": "afde2fe1-9b8c-423a-c8fe-2686fd90dd81"
      },
      "outputs": [
        {
          "output_type": "execute_result",
          "data": {
            "text/plain": [
              "4.99"
            ]
          },
          "metadata": {},
          "execution_count": 19
        }
      ],
      "source": [
        "gas_prices = [4.99, 5.10, 5.40, 4.80, 4.75]\n",
        "gas_prices.sort()\n",
        "gas_prices[2]"
      ]
    },
    {
      "cell_type": "markdown",
      "metadata": {
        "id": "2-MkftMYtlgZ"
      },
      "source": [
        "d, 4pts) Assuming the list is already sorted, code an expression that returns the difference between the largest price and the smallest price."
      ]
    },
    {
      "cell_type": "code",
      "execution_count": 19,
      "metadata": {
        "id": "V1RO8jtHtxnf",
        "colab": {
          "base_uri": "https://localhost:8080/"
        },
        "outputId": "062bac28-d177-45ef-f77f-713a2d245b96"
      },
      "outputs": [
        {
          "output_type": "execute_result",
          "data": {
            "text/plain": [
              "0.6500000000000004"
            ]
          },
          "metadata": {},
          "execution_count": 19
        }
      ],
      "source": [
        "max(gas_prices)-min(gas_prices)"
      ]
    },
    {
      "cell_type": "markdown",
      "metadata": {
        "id": "B22U7fwxsrFt"
      },
      "source": [
        "e, 3pts) Look online for a list method that reverses the order of the list.  Do this to gas_prices and print it."
      ]
    },
    {
      "cell_type": "code",
      "execution_count": 1,
      "metadata": {
        "id": "kwGIYfqCsrFu",
        "colab": {
          "base_uri": "https://localhost:8080/"
        },
        "outputId": "f54586a5-d8cd-495b-852d-c3d41db1a2b3"
      },
      "outputs": [
        {
          "output_type": "execute_result",
          "data": {
            "text/plain": [
              "[5.4, 5.1, 4.99, 4.8, 4.75]"
            ]
          },
          "metadata": {},
          "execution_count": 1
        }
      ],
      "source": [
        "gas_prices = [4.99, 5.10, 5.40, 4.80, 4.75]\n",
        "gas_prices.sort()\n",
        "gas_prices[::-1]"
      ]
    },
    {
      "cell_type": "markdown",
      "metadata": {
        "id": "KeoH3sGpsrFu"
      },
      "source": [
        "f, 3 pts) Here is a list-of-lists \"prices\" containing gas prices by the gallon in the first list, and milk prices by the gallon in the second list.  Write the expression that accesses the second milk price (3.04)."
      ]
    },
    {
      "cell_type": "code",
      "execution_count": 21,
      "metadata": {
        "id": "VJ4qm9YHsrFu"
      },
      "outputs": [],
      "source": [
        "prices = [[4.99, 5.10, 5.40, 4.80], # gas prices\n",
        "          [2.90, 3.04, 3.32, 3.55]] # milk prices"
      ]
    },
    {
      "cell_type": "code",
      "execution_count": 22,
      "metadata": {
        "id": "ibNP3j1rsrFu",
        "colab": {
          "base_uri": "https://localhost:8080/"
        },
        "outputId": "71c79ef2-5aac-49ec-eb26-fa1ad1ae41ce"
      },
      "outputs": [
        {
          "output_type": "execute_result",
          "data": {
            "text/plain": [
              "3.04"
            ]
          },
          "metadata": {},
          "execution_count": 22
        }
      ],
      "source": [
        "prices[1][1]"
      ]
    },
    {
      "cell_type": "markdown",
      "metadata": {
        "id": "pE3WP-JgsrFu"
      },
      "source": [
        "g, 3pts) Use the function max() to find the largest *milk* price.  (Index just once into prices, to get the milk list.)"
      ]
    },
    {
      "cell_type": "code",
      "execution_count": 31,
      "metadata": {
        "id": "V9vWf6z0srFv",
        "colab": {
          "base_uri": "https://localhost:8080/"
        },
        "outputId": "501440c3-e4ba-4e64-ea94-647f90327310"
      },
      "outputs": [
        {
          "output_type": "execute_result",
          "data": {
            "text/plain": [
              "3.55"
            ]
          },
          "metadata": {},
          "execution_count": 31
        }
      ],
      "source": [
        "max(prices[1])# TODO"
      ]
    }
  ],
  "metadata": {
    "colab": {
      "provenance": []
    },
    "kernelspec": {
      "display_name": "Python 3",
      "language": "python",
      "name": "python3"
    },
    "language_info": {
      "codemirror_mode": {
        "name": "ipython",
        "version": 3
      },
      "file_extension": ".py",
      "mimetype": "text/x-python",
      "name": "python",
      "nbconvert_exporter": "python",
      "pygments_lexer": "ipython3",
      "version": "3.8.8"
    }
  },
  "nbformat": 4,
  "nbformat_minor": 0
}